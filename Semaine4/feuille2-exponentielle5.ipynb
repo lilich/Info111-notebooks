{
 "cells": [
  {
   "cell_type": "markdown",
   "metadata": {},
   "source": [
    "\n",
    "# Implanter la fonction exponentielle"
   ]
  },
  {
   "cell_type": "markdown",
   "metadata": {},
   "source": [
    "## Partie 5 : Optimisation $\\clubsuit$\n",
    "\n",
    "Dans ce cas précis, il n'est pas très efficace de réutiliser les fonctions `puissance` et `factorielle` : on effectue les calculs plusieurs fois ! En effet pour calculer $x^{r+1}$ on doit à nouveau calculer $x^r$. "
   ]
  },
  {
   "cell_type": "markdown",
   "metadata": {},
   "source": [
    "Copier-coller ici les fonctions `abs` et `egal` de la [partie 3](feuille2-exponentielle3.ipynb):"
   ]
  },
  {
   "cell_type": "code",
   "execution_count": null,
   "metadata": {},
   "outputs": [],
   "source": [
    "// Insérer ici votre code\n"
   ]
  },
  {
   "cell_type": "code",
   "execution_count": null,
   "metadata": {},
   "outputs": [],
   "source": [
    "// Insérer ici votre code\n"
   ]
  },
  {
   "cell_type": "markdown",
   "metadata": {},
   "source": [
    "Compléter la fonction ci-dessous qui calcule l'exponentielle à précision donnée **sans** utiliser de fonction annexe (à part `egal`). Pour cela, vous aurez besoin de trois variables d'accumulations : celle de la puissance, celle de la factorielle et celle de l'exponentielle."
   ]
  },
  {
   "cell_type": "code",
   "execution_count": null,
   "metadata": {},
   "outputs": [],
   "source": [
    "/** Calcul rapide de la fonction exponentielle à précision donnée\n",
    " * @param x un nombre de type double\n",
    " * @param epsilon un nombre de type double\n",
    " * @return e^x avec précision epsilon\n",
    "**/\n",
    "double expRapide(double x, double epsilon) {\n",
    "    // Insérer ici votre code\n",
    "\n",
    "}"
   ]
  },
  {
   "cell_type": "code",
   "execution_count": null,
   "metadata": {},
   "outputs": [],
   "source": [
    "expRapide(5,0.000000001) // 148.413159"
   ]
  },
  {
   "cell_type": "code",
   "execution_count": null,
   "metadata": {},
   "outputs": [],
   "source": [
    "expRapide(3,0.000000001) // 20.085537"
   ]
  },
  {
   "cell_type": "code",
   "execution_count": null,
   "metadata": {},
   "outputs": [],
   "source": [
    "expRapide(1,0.000000001) // 2.718282"
   ]
  },
  {
   "cell_type": "markdown",
   "metadata": {},
   "source": [
    "Est-ce vraiment plus rapide? Utilisons à nouveau `timeit`:"
   ]
  },
  {
   "cell_type": "code",
   "execution_count": null,
   "metadata": {},
   "outputs": [],
   "source": [
    "%timeit expRapide(10, 0.00000001);"
   ]
  },
  {
   "cell_type": "markdown",
   "metadata": {},
   "source": [
    "## Bilan\n",
    "\n",
    "Vous avez maintenant une implantation nettement plus rapide de la fonction exponentielle.\n",
    "Faut il pour autant toujours tout réimplanter plutôt que de réutiliser? Non, surtout pas:\n",
    "\n",
    "*«Early optimisation is the root of all evil»* (Donald Knuth)\n",
    "\n",
    "Ici, on pourrait par exemple obtenir les même performances sans duplication de code par *mémoisation* (conserver les valeurs déjà calculées de $n!$ et $x^n$ pour éviter de les recalculer). En général, c'est à traiter au cas par cas, en tenant compte du compromis entre temps de dévelopement et performances requises, des questions de complexité (cf cours à venir), etc."
   ]
  },
  {
   "cell_type": "markdown",
   "metadata": {},
   "source": [
    "Vous pouvez maintenant passer à la suite du TP."
   ]
  }
 ],
 "metadata": {
  "kernelspec": {
   "display_name": "xeus C++11",
   "language": "",
   "name": "xeus-cling-cpp11"
  },
  "language_info": {
   "codemirror_mode": "text/x-c++src",
   "file_extension": ".cpp",
   "mimetype": "text/x-c++src",
   "name": "c++",
   "version": ""
  }
 },
 "nbformat": 4,
 "nbformat_minor": 2
}
