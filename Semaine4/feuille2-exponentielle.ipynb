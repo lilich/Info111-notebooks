{
 "cells": [
  {
   "cell_type": "markdown",
   "metadata": {},
   "source": [
    "# Implanter la fonction exponentielle\n",
    "\n",
    "**Imaginez que vous développez la nouvelle librairie de fonctions mathématiques du `C++`.** Au départ, les seules opérations auxquelles vous avez le droit sont les *opérations arithmétiques usuelles* telles que `+` `*` `/` `%`. Notre but aujourd'hui est d'écrire la fonction qui calcule $e^x$. \n",
    "\n",
    "Pour cela, on utilise la définition de $e^x$ en tant que *série* (somme infinie) :\n",
    "\n",
    "$$e^x = \\sum_{n=0}^{+\\infty} \\frac{x^n}{n!} = 1 + x + \\frac{x^2}{2} + \\frac{x^3}{6} +\\cdots+\\frac{x^n}{n!}+\\cdots$$"
   ]
  },
  {
   "cell_type": "markdown",
   "metadata": {},
   "source": [
    "On remarque que l'on a besoin en particulier de calculer $x^n$ ainsi que $n!$. Ce sera l'objet de la première partie. Dans la partie 2, on calculera une approximation de la fonction exponnentielle en la tronquant à un nombre de terme fixé; par exemple:\n",
    "$$e^x \\approx 1+\\frac{x^2}{2}+\\frac{x^3}{6}$$\n",
    "\n",
    "La précision d'une telle approximation dépend beaucoup de la valeur de $x$. Dans la partie 4 on utilisera une méthode *adaptative*: on fixera cette fois la précision relative souhaitée et on calculera autant de termes que nécessaire pour atteindre cette précision. Pour cela on aura préalablement défini -- et implanté! -- dans la partie 3 ce que l'on entends par précision relative."
   ]
  },
  {
   "cell_type": "markdown",
   "metadata": {},
   "source": [
    "## Partie 1 : Fonctions puissance et factorielle\n",
    "\n",
    "Réécrire les fonctions `puissances` et `factorielle` vues en TD. Vérifier que l'on obtient bien les résultats attendus."
   ]
  },
  {
   "cell_type": "code",
   "execution_count": null,
   "metadata": {},
   "outputs": [],
   "source": [
    "/** Factorielle\n",
    " * @param n un entier\n",
    " * @return la valeur n! en tant que double\n",
    "**/\n",
    "double factorielle(int n) {\n",
    "    // Insérer ici votre code\n",
    "\n",
    "}"
   ]
  },
  {
   "cell_type": "code",
   "execution_count": null,
   "metadata": {},
   "outputs": [],
   "source": [
    "factorielle(5)"
   ]
  },
  {
   "cell_type": "code",
   "execution_count": null,
   "metadata": {},
   "outputs": [],
   "source": [
    "#define ASSERT(C) if ( !(C) ) { std::cerr << \"Test failed: \"#C << std::endl; }"
   ]
  },
  {
   "cell_type": "code",
   "execution_count": null,
   "metadata": {},
   "outputs": [],
   "source": [
    "ASSERT( factorielle(0) == 1   );   // Par convention mathématique\n",
    "ASSERT( factorielle(3) == 6   );\n",
    "ASSERT( factorielle(4) == 24  );\n",
    "ASSERT( factorielle(5) == 120 );"
   ]
  },
  {
   "cell_type": "markdown",
   "metadata": {},
   "source": [
    "Vérifier l'ordre de grandeur du calcul suivant. Si la valeur est aberrante vérifier l'utilisation du type `double` à toutes les étapes du calcul."
   ]
  },
  {
   "cell_type": "code",
   "execution_count": null,
   "metadata": {},
   "outputs": [],
   "source": [
    "factorielle(100)"
   ]
  },
  {
   "cell_type": "markdown",
   "metadata": {},
   "source": [
    "Compléter la fonction `puissance` ci-dessous:"
   ]
  },
  {
   "cell_type": "code",
   "execution_count": null,
   "metadata": {},
   "outputs": [],
   "source": [
    "/** Puissance\n",
    " * @param x un nombre de type double\n",
    " * @param n un entier\n",
    " * @return le nombre x^n de type double\n",
    "**/\n",
    "double puissance(double x, int n) {\n",
    "    // Insérer ici votre code\n",
    "\n",
    "}"
   ]
  },
  {
   "cell_type": "code",
   "execution_count": null,
   "metadata": {},
   "outputs": [],
   "source": [
    "puissance(2, 4)"
   ]
  },
  {
   "cell_type": "code",
   "execution_count": null,
   "metadata": {},
   "outputs": [],
   "source": [
    "ASSERT( puissance(1,  10) == 1     );\n",
    "ASSERT( puissance(2,   5) == 32    );\n",
    "ASSERT( puissance(1.5, 3) == 3.375 );"
   ]
  },
  {
   "cell_type": "markdown",
   "metadata": {},
   "source": [
    "Ajouter des tests pour les cas limites: $x^0$, $0^r$, $0^0$:"
   ]
  },
  {
   "cell_type": "code",
   "execution_count": null,
   "metadata": {},
   "outputs": [],
   "source": [
    "// Insérer ici votre code\n"
   ]
  },
  {
   "cell_type": "markdown",
   "metadata": {},
   "source": [
    "## Bilan de la partie 1\n",
    "Vous avez maintenant les prérequis pour implanter la fonction exponentielle.\n",
    "Vous pouvez maintenant passer à la [partie 2](feuille2-exponentielle2.ipynb)."
   ]
  }
 ],
 "metadata": {
  "kernelspec": {
   "display_name": "xeus C++11",
   "language": "",
   "name": "xeus-cling-cpp11"
  },
  "language_info": {
   "codemirror_mode": "text/x-c++src",
   "file_extension": ".cpp",
   "mimetype": "text/x-c++src",
   "name": "c++",
   "version": ""
  }
 },
 "nbformat": 4,
 "nbformat_minor": 2
}
