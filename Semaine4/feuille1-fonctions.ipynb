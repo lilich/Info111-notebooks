{
 "cells": [
  {
   "cell_type": "markdown",
   "metadata": {
    "nbgrader": {
     "grade": false,
     "grade_id": "cell-a741e2baae8a5295",
     "locked": true,
     "schema_version": 1,
     "solution": false
    }
   },
   "source": [
    "# TP 4 - Premières fonctions"
   ]
  },
  {
   "cell_type": "markdown",
   "metadata": {
    "nbgrader": {
     "grade": false,
     "grade_id": "cell-8b56bb2323e686a8",
     "locked": true,
     "schema_version": 1,
     "solution": false
    }
   },
   "source": [
    "## Exercice 1 : renvoyer versus afficher\n",
    "\n",
    "Exécuter les cellules suivantes qui définissent deux fonctions."
   ]
  },
  {
   "cell_type": "code",
   "execution_count": null,
   "metadata": {
    "nbgrader": {
     "grade": false,
     "grade_id": "cell-7d3032978c91517b",
     "locked": true,
     "schema_version": 1,
     "solution": false
    }
   },
   "outputs": [],
   "source": [
    "#include <iostream>\n",
    "using namespace std;"
   ]
  },
  {
   "cell_type": "code",
   "execution_count": null,
   "metadata": {
    "nbgrader": {
     "grade": false,
     "grade_id": "cell-adbf3ea334252de8",
     "locked": true,
     "schema_version": 1,
     "solution": false
    }
   },
   "outputs": [],
   "source": [
    "/** Une fonction qui calcule la valeur absolue\n",
    " * @param a, un entier\n",
    " * @return la valeur absolue de a\n",
    " **/\n",
    "int abs(int a) {\n",
    "    if (a > 0) {\n",
    "        return a;\n",
    "    } else {\n",
    "        return -a;\n",
    "    }\n",
    "}"
   ]
  },
  {
   "cell_type": "code",
   "execution_count": null,
   "metadata": {
    "nbgrader": {
     "grade": false,
     "grade_id": "cell-7d7a9fa58c13128d",
     "locked": true,
     "schema_version": 1,
     "solution": false
    }
   },
   "outputs": [],
   "source": [
    "/** Une fonction qui affiche la valeur absolue\n",
    " * @param a, un entier\n",
    " **/\n",
    "void afficheAbs(int a) {\n",
    "    if (a > 0) {\n",
    "        cout << a << endl;\n",
    "    } else {\n",
    "        cout << -a << endl;\n",
    "    }\n",
    "}"
   ]
  },
  {
   "cell_type": "markdown",
   "metadata": {
    "nbgrader": {
     "grade": true,
     "grade_id": "cell-ebbfec0d5cb0e626",
     "locked": false,
     "points": 1,
     "schema_version": 1,
     "solution": true
    }
   },
   "source": [
    "Observer les appels suivants; y a-t-il une différence entre `abs` et `afficheAbs`?\n",
    "\n",
    "Insérer ici votre réponse\n"
   ]
  },
  {
   "cell_type": "code",
   "execution_count": null,
   "metadata": {
    "nbgrader": {
     "grade": false,
     "grade_id": "cell-96a8003bde332ef4",
     "locked": true,
     "schema_version": 1,
     "solution": false
    }
   },
   "outputs": [],
   "source": [
    "abs(3)"
   ]
  },
  {
   "cell_type": "code",
   "execution_count": null,
   "metadata": {
    "nbgrader": {
     "grade": false,
     "grade_id": "cell-525744fbd9aca5dc",
     "locked": true,
     "schema_version": 1,
     "solution": false
    }
   },
   "outputs": [],
   "source": [
    "afficheAbs(3)"
   ]
  },
  {
   "cell_type": "code",
   "execution_count": null,
   "metadata": {
    "nbgrader": {
     "grade": false,
     "grade_id": "cell-97390c5a9ca620b1",
     "locked": true,
     "schema_version": 1,
     "solution": false
    }
   },
   "outputs": [],
   "source": [
    "abs(-5)"
   ]
  },
  {
   "cell_type": "code",
   "execution_count": null,
   "metadata": {
    "nbgrader": {
     "grade": false,
     "grade_id": "cell-5fca3285f14ba38a",
     "locked": true,
     "schema_version": 1,
     "solution": false
    }
   },
   "outputs": [],
   "source": [
    "afficheAbs(-5)"
   ]
  },
  {
   "cell_type": "markdown",
   "metadata": {
    "nbgrader": {
     "grade": false,
     "grade_id": "cell-d95a34f5ac81eb33",
     "locked": true,
     "schema_version": 1,
     "solution": false
    }
   },
   "source": [
    "Essayer de deviner le résultat des appels suivants puis exécuter pour vérifier:"
   ]
  },
  {
   "cell_type": "code",
   "execution_count": null,
   "metadata": {
    "nbgrader": {
     "grade": false,
     "grade_id": "cell-6a55898a16557a96",
     "locked": true,
     "schema_version": 1,
     "solution": false
    }
   },
   "outputs": [],
   "source": [
    "abs(-5) + abs(3)"
   ]
  },
  {
   "cell_type": "code",
   "execution_count": null,
   "metadata": {
    "nbgrader": {
     "grade": false,
     "grade_id": "cell-866c4a0c9a4a6ab8",
     "locked": true,
     "schema_version": 1,
     "solution": false
    }
   },
   "outputs": [],
   "source": [
    "afficheAbs(-5) + afficheAbs(3)"
   ]
  },
  {
   "cell_type": "markdown",
   "metadata": {
    "nbgrader": {
     "grade": true,
     "grade_id": "cell-6c7a39b6a3ef0358",
     "locked": false,
     "points": 1,
     "schema_version": 1,
     "solution": true
    }
   },
   "source": [
    "La seconde cellule vous donne une **erreur**, comprenez-vous pourquoi ?\n",
    "\n",
    "Insérer ici votre réponse\n"
   ]
  },
  {
   "cell_type": "markdown",
   "metadata": {
    "nbgrader": {
     "grade": false,
     "grade_id": "cell-5699e6d9d0f3d16a",
     "locked": true,
     "schema_version": 1,
     "solution": false
    }
   },
   "source": [
    "## Exercice: une fonction utilisant une fonction"
   ]
  },
  {
   "cell_type": "markdown",
   "metadata": {
    "nbgrader": {
     "grade": false,
     "grade_id": "cell-b9cda32e468d6d8b",
     "locked": true,
     "schema_version": 1,
     "solution": false
    }
   },
   "source": [
    "Compléter la fonction ci-dessous dont on donne la *documentation*. Vous **devez** utiliser un **appel** à l'une des deux fonctions de l'exercice précédent."
   ]
  },
  {
   "cell_type": "code",
   "execution_count": null,
   "metadata": {
    "nbgrader": {
     "grade": false,
     "grade_id": "cell-ef47de23dc65918c",
     "locked": false,
     "schema_version": 1,
     "solution": true
    }
   },
   "outputs": [],
   "source": [
    "/** Distance de deux points sur une droite\n",
    " * @param a un entier: la coordonnée du premier point\n",
    " * @param b un entier: la coordonnée du deuxième point\n",
    " * @return la valeur absolue de la différence entre a et b\n",
    " **/\n",
    "int distance(int a, int b) {\n",
    "    // Insérer ici votre code\n",
    "\n",
    "}"
   ]
  },
  {
   "cell_type": "markdown",
   "metadata": {
    "nbgrader": {
     "grade": false,
     "grade_id": "cell-cf373e1ce7210f3a",
     "locked": true,
     "schema_version": 1,
     "solution": false
    }
   },
   "source": [
    "Vérifier son fonctionnement sur l'exemple ci-dessous et les tests qui le suivent. Comme d'habitude, ces tests doivent tous renvoyer `true`, si ce n'est pas le cas il y a une erreur dans votre code."
   ]
  },
  {
   "cell_type": "code",
   "execution_count": null,
   "metadata": {},
   "outputs": [],
   "source": [
    "distance(5,3)"
   ]
  },
  {
   "cell_type": "code",
   "execution_count": null,
   "metadata": {
    "nbgrader": {
     "grade": false,
     "grade_id": "cell-1468d3b77d12dfbb",
     "locked": true,
     "schema_version": 1,
     "solution": false
    }
   },
   "outputs": [],
   "source": [
    "distance(5,3) == 2"
   ]
  },
  {
   "cell_type": "code",
   "execution_count": null,
   "metadata": {
    "nbgrader": {
     "grade": false,
     "grade_id": "cell-fb7ffc1acf3cf457",
     "locked": true,
     "schema_version": 1,
     "solution": false
    }
   },
   "outputs": [],
   "source": [
    "distance(-4,2) == 6"
   ]
  },
  {
   "cell_type": "code",
   "execution_count": null,
   "metadata": {
    "nbgrader": {
     "grade": false,
     "grade_id": "cell-973b66f0d812df05",
     "locked": true,
     "schema_version": 1,
     "solution": false
    }
   },
   "outputs": [],
   "source": [
    "distance(2,-5) == 7"
   ]
  },
  {
   "cell_type": "markdown",
   "metadata": {
    "nbgrader": {
     "grade": false,
     "grade_id": "cell-d27b0a203d050706",
     "locked": true,
     "schema_version": 1,
     "solution": false
    }
   },
   "source": [
    "## Exercice (à la maison)\n",
    "Même exercice que précédemment:"
   ]
  },
  {
   "cell_type": "code",
   "execution_count": null,
   "metadata": {
    "nbgrader": {
     "grade": false,
     "grade_id": "cell-a3cf80e3952bdd34",
     "locked": false,
     "schema_version": 1,
     "solution": true
    }
   },
   "outputs": [],
   "source": [
    "/** somme des valeurs absolues (aussi appelée norme L1)\n",
    " * @param a un entier\n",
    " * @param b un entier\n",
    " * @return la somme des valeurs absolues de a et b\n",
    " **/\n",
    "int sommeAbs(int a, int b) {\n",
    "    // Insérer ici votre code\n",
    "\n",
    "}"
   ]
  },
  {
   "cell_type": "code",
   "execution_count": null,
   "metadata": {},
   "outputs": [],
   "source": [
    "sommeAbs(5,-3)"
   ]
  },
  {
   "cell_type": "code",
   "execution_count": null,
   "metadata": {
    "nbgrader": {
     "grade": false,
     "grade_id": "cell-6d67d87937dbe617",
     "locked": true,
     "schema_version": 1,
     "solution": false
    }
   },
   "outputs": [],
   "source": [
    "sommeAbs(5,-3)  == 8"
   ]
  },
  {
   "cell_type": "code",
   "execution_count": null,
   "metadata": {
    "nbgrader": {
     "grade": false,
     "grade_id": "cell-1cf910256b7ba798",
     "locked": true,
     "schema_version": 1,
     "solution": false
    }
   },
   "outputs": [],
   "source": [
    "sommeAbs(-4,-2) == 6"
   ]
  },
  {
   "cell_type": "code",
   "execution_count": null,
   "metadata": {
    "nbgrader": {
     "grade": false,
     "grade_id": "cell-b0072c6876feea78",
     "locked": true,
     "schema_version": 1,
     "solution": false
    }
   },
   "outputs": [],
   "source": [
    "sommeAbs(2,5) == 7"
   ]
  },
  {
   "cell_type": "markdown",
   "metadata": {
    "nbgrader": {
     "grade": false,
     "grade_id": "cell-f389d530bfbe35e0",
     "locked": true,
     "schema_version": 1,
     "solution": false
    }
   },
   "source": [
    "## Exercice: tests automatiques\n",
    "Essayer les exemples suivants qui illustrent l'utilisation de l'infrastructure vue en cours pour automatiser les tests. Si vous avez une erreur du type `no member named 'cerr'`, vous avez probablement redémarré le noyau en oubliant d'exécuter la première cellule de cette fiche contenant `#include <iostream>`.\n",
    " **Astuce** : A chaque fois que vous redémarrez le noyau, allez ensuite dans `Cell` -> `Run All Above`. Cela exécute toutes les cellules qui sont avant celle où vous vous trouvez. Vous éviterez ainsi de perdre du temps à chercher où sont les cellules qu'il faut ré-exécuter."
   ]
  },
  {
   "cell_type": "code",
   "execution_count": null,
   "metadata": {
    "nbgrader": {
     "grade": false,
     "grade_id": "cell-1409b77bfc6581ae",
     "locked": true,
     "schema_version": 1,
     "solution": false
    }
   },
   "outputs": [],
   "source": [
    "#define ASSERT(C) if ( !(C) ) { std::cerr << \"Test failed: \"#C << std::endl; }"
   ]
  },
  {
   "cell_type": "code",
   "execution_count": null,
   "metadata": {
    "nbgrader": {
     "grade": false,
     "grade_id": "cell-409ed522d0d7ce28",
     "locked": true,
     "schema_version": 1,
     "solution": false
    }
   },
   "outputs": [],
   "source": [
    "ASSERT ( 1 < 2 );\n",
    "ASSERT ( 1 > 2 );"
   ]
  },
  {
   "cell_type": "markdown",
   "metadata": {
    "nbgrader": {
     "grade": false,
     "grade_id": "cell-4f9b5f26274b8d47",
     "locked": true,
     "schema_version": 1,
     "solution": false
    }
   },
   "source": [
    "On remarque que si la condition en paramètre de `ASSERT` est vraie, il n'y a aucun affichage. Par contre si la condition est fausse, un message d'erreur indiquant la condition fausse est affiché."
   ]
  },
  {
   "cell_type": "markdown",
   "metadata": {
    "nbgrader": {
     "grade": false,
     "grade_id": "cell-c7c30794bfe3d639",
     "locked": true,
     "schema_version": 1,
     "solution": false
    }
   },
   "source": [
    "Avec ASSERT, les tests de la fonction `distance` se mettent sous la forme:"
   ]
  },
  {
   "cell_type": "code",
   "execution_count": null,
   "metadata": {
    "nbgrader": {
     "grade": true,
     "grade_id": "cell-30fde9ec08937b80",
     "locked": true,
     "points": 1,
     "schema_version": 1,
     "solution": false
    }
   },
   "outputs": [],
   "source": [
    "ASSERT ( distance(5,3)  == 2 );\n",
    "ASSERT ( distance(-4,2) == 6 );\n",
    "ASSERT ( distance(2,-5) == 7 );\n",
    "// BEGIN HIDDEN TESTS\n",
    "ASSERT ( distance(-5,-2) == 3);\n",
    "// END HIDDEN TESTS"
   ]
  },
  {
   "cell_type": "markdown",
   "metadata": {
    "nbgrader": {
     "grade": false,
     "grade_id": "cell-5a60b1893097e9fd",
     "locked": true,
     "schema_version": 1,
     "solution": false
    }
   },
   "source": [
    "Leur exécution ne devrait rien afficher."
   ]
  },
  {
   "cell_type": "markdown",
   "metadata": {
    "nbgrader": {
     "grade": false,
     "grade_id": "cell-6501a3f1941bd272",
     "locked": true,
     "schema_version": 1,
     "solution": false
    }
   },
   "source": [
    "## Exercice: suivre la documentation et les tests\n",
    "\n",
    "Implanter la fonction `nombreSecondes` dont la documentation est donnée ci-dessous:"
   ]
  },
  {
   "cell_type": "code",
   "execution_count": null,
   "metadata": {
    "nbgrader": {
     "grade": false,
     "grade_id": "cell-0d59febaf9233496",
     "locked": false,
     "schema_version": 1,
     "solution": true
    }
   },
   "outputs": [],
   "source": [
    "/** Renvoie en secondes la durée décrite en jours, heures, minutes, secondes\n",
    " * @param j un entier représentant le nombre de jours\n",
    " * @param h un entier représentant le nombre d heures\n",
    " * @param m un entier représentant le nombre de minutes\n",
    " * @param s un entier représentant le nombre de secondes\n",
    " * @return la durée en secondes\n",
    "**/\n",
    "// Insérer ici votre code\n"
   ]
  },
  {
   "cell_type": "markdown",
   "metadata": {
    "nbgrader": {
     "grade": false,
     "grade_id": "cell-e103b2353b1c2e15",
     "locked": true,
     "schema_version": 1,
     "solution": false
    }
   },
   "source": [
    "Vérifier son fonctionnement sur les exemples et tests ci-dessous:"
   ]
  },
  {
   "cell_type": "code",
   "execution_count": null,
   "metadata": {},
   "outputs": [],
   "source": [
    "nombreSecondes(1,1,1,1)"
   ]
  },
  {
   "cell_type": "code",
   "execution_count": null,
   "metadata": {
    "nbgrader": {
     "grade": true,
     "grade_id": "cell-babf9ae1f3f02491",
     "locked": true,
     "points": 1,
     "schema_version": 1,
     "solution": false
    }
   },
   "outputs": [],
   "source": [
    "ASSERT( nombreSecondes(0,0,0,1)  == 1      );\n",
    "ASSERT( nombreSecondes(0,0,1,0)  == 60     );\n",
    "ASSERT( nombreSecondes(0,1,0,0)  == 3600   );\n",
    "ASSERT( nombreSecondes(1,0,0,0)  == 86400  );\n",
    "ASSERT( nombreSecondes(3,2,5,25) == 266725 );"
   ]
  }
 ],
 "metadata": {
  "celltoolbar": "Create Assignment",
  "kernelspec": {
   "display_name": "C++11",
   "language": "C++11",
   "name": "xeus-cling-cpp11"
  },
  "language_info": {
   "codemirror_mode": "text/x-c++src",
   "file_extension": ".cpp",
   "mimetype": "text/x-c++src",
   "name": "c++",
   "version": "-std=c++11"
  }
 },
 "nbformat": 4,
 "nbformat_minor": 2
}
