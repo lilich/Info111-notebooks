{
 "cells": [
  {
   "cell_type": "markdown",
   "metadata": {},
   "source": [
    "# Premières fonctions"
   ]
  },
  {
   "cell_type": "markdown",
   "metadata": {},
   "source": [
    "## Exercice 1 : renvoyer versus afficher\n",
    "\n",
    "Exécuter les cellules suivantes qui définissent deux fonctions."
   ]
  },
  {
   "cell_type": "code",
   "execution_count": null,
   "metadata": {},
   "outputs": [],
   "source": [
    "#include <iostream>\n",
    "using namespace std;"
   ]
  },
  {
   "cell_type": "code",
   "execution_count": null,
   "metadata": {},
   "outputs": [],
   "source": [
    "/** Une fonction qui calcule la valeur absolue\n",
    " * @param a, un entier\n",
    " * @return la valeur absolue de a\n",
    " **/\n",
    "int abs(int a) {\n",
    "    if (a > 0) {\n",
    "        return a;\n",
    "    } else {\n",
    "        return -a;\n",
    "    }\n",
    "}"
   ]
  },
  {
   "cell_type": "code",
   "execution_count": null,
   "metadata": {},
   "outputs": [],
   "source": [
    "/** Une fonction qui affiche la valeur absolue\n",
    " * @param a, un entier\n",
    " **/\n",
    "void afficheAbs(int a) {\n",
    "    if (a > 0) {\n",
    "        cout << a << endl;\n",
    "    } else {\n",
    "        cout << -a << endl;\n",
    "    }\n",
    "}"
   ]
  },
  {
   "cell_type": "markdown",
   "metadata": {},
   "source": [
    "Observer les appels suivants; y a-t-il une différence entre `abs` et `afficheAbs`?"
   ]
  },
  {
   "cell_type": "code",
   "execution_count": null,
   "metadata": {},
   "outputs": [],
   "source": [
    "abs(3)"
   ]
  },
  {
   "cell_type": "code",
   "execution_count": null,
   "metadata": {},
   "outputs": [],
   "source": [
    "afficheAbs(3)"
   ]
  },
  {
   "cell_type": "code",
   "execution_count": null,
   "metadata": {},
   "outputs": [],
   "source": [
    "abs(-5)"
   ]
  },
  {
   "cell_type": "code",
   "execution_count": null,
   "metadata": {},
   "outputs": [],
   "source": [
    "afficheAbs(-5)"
   ]
  },
  {
   "cell_type": "markdown",
   "metadata": {},
   "source": [
    "Essayer de deviner le résultat des appels suivants puis exécuter pour vérifier:"
   ]
  },
  {
   "cell_type": "code",
   "execution_count": null,
   "metadata": {},
   "outputs": [],
   "source": [
    "abs(-5) + abs(3)"
   ]
  },
  {
   "cell_type": "code",
   "execution_count": null,
   "metadata": {},
   "outputs": [],
   "source": [
    "afficheAbs(-5) + afficheAbs(3)"
   ]
  },
  {
   "cell_type": "markdown",
   "metadata": {},
   "source": [
    "La seconde cellule vous donne une **erreur**, comprenez-vous pourquoi ?"
   ]
  },
  {
   "cell_type": "markdown",
   "metadata": {},
   "source": [
    "## Exercice: une fonction utilisant une fonction"
   ]
  },
  {
   "cell_type": "markdown",
   "metadata": {},
   "source": [
    "Compléter la fonction ci-dessous dont on donne la *documentation*. Vous **devez** utiliser un **appel** à l'une des deux fonctions de l'exercice précédent."
   ]
  },
  {
   "cell_type": "code",
   "execution_count": null,
   "metadata": {},
   "outputs": [],
   "source": [
    "/** Distance de deux points sur une droite\n",
    " * @param a un entier: la coordonnée du premier point\n",
    " * @param b un entier: la coordonnée du deuxième point\n",
    " * @return la valeur absolue de la différence entre a et b\n",
    " **/\n",
    "int distance(int a, int b) {\n",
    "    // Insérer ici votre code\n",
    "\n",
    "}"
   ]
  },
  {
   "cell_type": "markdown",
   "metadata": {},
   "source": [
    "Vérifier son fonctionnement sur les exemples et tests ci-dessous. Comme d'habitude, tous les tests d'égalité devraient renvoyer `true`; sinon c'est que la fonction n'est pas correcte !"
   ]
  },
  {
   "cell_type": "code",
   "execution_count": null,
   "metadata": {},
   "outputs": [],
   "source": [
    "distance(5,3)"
   ]
  },
  {
   "cell_type": "code",
   "execution_count": null,
   "metadata": {},
   "outputs": [],
   "source": [
    "distance(5,3) == 2"
   ]
  },
  {
   "cell_type": "code",
   "execution_count": null,
   "metadata": {},
   "outputs": [],
   "source": [
    "distance(-4,2) == 6"
   ]
  },
  {
   "cell_type": "code",
   "execution_count": null,
   "metadata": {},
   "outputs": [],
   "source": [
    "distance(2,-5) == 7"
   ]
  },
  {
   "cell_type": "markdown",
   "metadata": {},
   "source": [
    "## Exercice (à la maison)\n",
    "Même exercice que précédemment:"
   ]
  },
  {
   "cell_type": "code",
   "execution_count": null,
   "metadata": {},
   "outputs": [],
   "source": [
    "/** somme des valeurs absolues (aussi appelée norme L1)\n",
    " * @param a un entier\n",
    " * @param b un entier\n",
    " * @return la somme des valeurs absolues de a et b\n",
    " **/\n",
    "int sommeAbs(int a, int b) {\n",
    "    // Insérer ici votre code\n",
    "\n",
    "}"
   ]
  },
  {
   "cell_type": "code",
   "execution_count": null,
   "metadata": {},
   "outputs": [],
   "source": [
    "sommeAbs(5,-3)"
   ]
  },
  {
   "cell_type": "code",
   "execution_count": null,
   "metadata": {},
   "outputs": [],
   "source": [
    "sommeAbs(5,-3) == 8"
   ]
  },
  {
   "cell_type": "code",
   "execution_count": null,
   "metadata": {},
   "outputs": [],
   "source": [
    "sommeAbs(-4,-2) == 6"
   ]
  },
  {
   "cell_type": "code",
   "execution_count": null,
   "metadata": {},
   "outputs": [],
   "source": [
    "sommeAbs(2,5) == 7"
   ]
  },
  {
   "cell_type": "markdown",
   "metadata": {},
   "source": [
    "## Exercice: tests automatique\n",
    "Essayer les exemples suivants qui illustrent l'utilisation de l'infrastructure vue en cours pour automatiser les tests:"
   ]
  },
  {
   "cell_type": "code",
   "execution_count": null,
   "metadata": {},
   "outputs": [],
   "source": [
    "#define ASSERT(C) if ( !(C) ) { std::cerr << \"Test failed: \"#C << std::endl; }"
   ]
  },
  {
   "cell_type": "code",
   "execution_count": null,
   "metadata": {},
   "outputs": [],
   "source": [
    "ASSERT ( 1 < 2 );\n",
    "ASSERT ( 1 > 2 );"
   ]
  },
  {
   "cell_type": "markdown",
   "metadata": {},
   "source": [
    "On remarque que si la condition en paramètre de `ASSERT` est vraie, il n'y a aucun affichage. Par contre si la condition est fausse, un message d'erreur indiquant la condition fausse est affiché."
   ]
  },
  {
   "cell_type": "markdown",
   "metadata": {},
   "source": [
    "Avec ASSERT, les tests de la fonction `distance` se mettent sous la forme:"
   ]
  },
  {
   "cell_type": "code",
   "execution_count": null,
   "metadata": {},
   "outputs": [],
   "source": [
    "ASSERT ( distance(5,3)  == 2 );\n",
    "ASSERT ( distance(-4,2) == 6 );\n",
    "ASSERT ( distance(2,-5) == 7 );"
   ]
  },
  {
   "cell_type": "markdown",
   "metadata": {},
   "source": [
    "Leur exécution ne devrait rien afficher."
   ]
  },
  {
   "cell_type": "markdown",
   "metadata": {},
   "source": [
    "## Exercice: suivre la documentation et les tests\n",
    "\n",
    "Implanter la fonction `nombreSecondes` dont la documentation est donnée ci-dessous:"
   ]
  },
  {
   "cell_type": "code",
   "execution_count": null,
   "metadata": {},
   "outputs": [],
   "source": [
    "/** Renvoie en secondes la durée décrite en jours, heures, minutes, secondes\n",
    " * @param j un entier représentant le nombre de jours\n",
    " * @param h un entier représentant le nombre d heures\n",
    " * @param m un entier représentant le nombre de minutes\n",
    " * @param s un entier représentant le nombre de secondes\n",
    " * @return la durée en secondes\n",
    "**/\n",
    "// Insérer ici votre code\n"
   ]
  },
  {
   "cell_type": "markdown",
   "metadata": {},
   "source": [
    "Vérifier son fonctionnement sur les exemples et tests ci-dessous:"
   ]
  },
  {
   "cell_type": "code",
   "execution_count": null,
   "metadata": {},
   "outputs": [],
   "source": [
    "nombreSecondes(1,1,1,1)"
   ]
  },
  {
   "cell_type": "code",
   "execution_count": null,
   "metadata": {},
   "outputs": [],
   "source": [
    "ASSERT( nombreSecondes(0,0,0,1)  == 1      );\n",
    "ASSERT( nombreSecondes(0,0,1,0)  == 60     );\n",
    "ASSERT( nombreSecondes(0,1,0,0)  == 3600   );\n",
    "ASSERT( nombreSecondes(1,0,0,0)  == 86400  );\n",
    "ASSERT( nombreSecondes(3,2,5,25) == 266725 );"
   ]
  }
 ],
 "metadata": {
  "kernelspec": {
   "display_name": "xeus C++11",
   "language": "",
   "name": "xeus-cling-cpp11"
  },
  "language_info": {
   "codemirror_mode": "text/x-c++src",
   "file_extension": ".cpp",
   "mimetype": "text/x-c++src",
   "name": "c++",
   "version": ""
  }
 },
 "nbformat": 4,
 "nbformat_minor": 2
}
