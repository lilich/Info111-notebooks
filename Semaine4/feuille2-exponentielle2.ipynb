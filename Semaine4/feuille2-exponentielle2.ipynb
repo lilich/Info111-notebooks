{
 "cells": [
  {
   "cell_type": "markdown",
   "metadata": {
    "nbgrader": {
     "grade": false,
     "grade_id": "cell-a7cb2ec64ca805b6",
     "locked": true,
     "schema_version": 1,
     "solution": false
    }
   },
   "source": [
    "# TP 4 - Implanter la fonction exponentielle"
   ]
  },
  {
   "cell_type": "markdown",
   "metadata": {
    "nbgrader": {
     "grade": false,
     "grade_id": "cell-dfc454aa3b53f790",
     "locked": true,
     "schema_version": 1,
     "solution": false
    }
   },
   "source": [
    "## Partie 2 : Calculer une somme infinie ?\n",
    "\n",
    "La définition mathématique de l'exponentielle suppose de calculer une *somme infinie*. Ce n'est pas possible en pratique ! On propose donc d'implanter la fonction suivante qui calcule une *approximation* de la fonction exponentielle obtenue en tronquant la somme à un certain rang $r$:\n",
    "$$e^x \\approx \\sum_{n=0}^r \\frac{x^n}{n!}$$"
   ]
  },
  {
   "cell_type": "markdown",
   "metadata": {
    "nbgrader": {
     "grade": false,
     "grade_id": "cell-b916e98c49f6f97c",
     "locked": true,
     "schema_version": 1,
     "solution": false
    }
   },
   "source": [
    "Copier-coller dans les deux cellules suivantes vos fonctions `puissance` et `factorielle` de la [partie 1](feuille2-exponentielle.ipynb), puis compléter l'implantation de la fonction `exponentielle`."
   ]
  },
  {
   "cell_type": "code",
   "execution_count": null,
   "metadata": {
    "nbgrader": {
     "grade": false,
     "grade_id": "cell-ed4b87cdbd09b4b1",
     "locked": false,
     "schema_version": 1,
     "solution": true
    }
   },
   "outputs": [],
   "source": [
    "// Insérer ici votre code\n"
   ]
  },
  {
   "cell_type": "code",
   "execution_count": null,
   "metadata": {
    "nbgrader": {
     "grade": false,
     "grade_id": "cell-40704048f0f43a58",
     "locked": false,
     "schema_version": 1,
     "solution": true
    }
   },
   "outputs": [],
   "source": [
    "// Insérer ici votre code\n"
   ]
  },
  {
   "cell_type": "code",
   "execution_count": null,
   "metadata": {
    "nbgrader": {
     "grade": false,
     "grade_id": "cell-583ab182274bf121",
     "locked": false,
     "schema_version": 1,
     "solution": true
    }
   },
   "outputs": [],
   "source": [
    "/** Exponentielle tronquée à un certain rang r\n",
    " * @param x un nombre à virgule flottante en double précision\n",
    " * @param r un nombre entier positif\n",
    " * @return 1 + x  + x^2/2 + x^3/3! + ...  + x^r/r!\n",
    "**/\n",
    "double expRang(double x, int r) {\n",
    "    // Insérer ici votre code\n",
    "\n",
    "}"
   ]
  },
  {
   "cell_type": "code",
   "execution_count": null,
   "metadata": {},
   "outputs": [],
   "source": [
    "expRang(5,1)"
   ]
  },
  {
   "cell_type": "code",
   "execution_count": null,
   "metadata": {
    "nbgrader": {
     "grade": false,
     "grade_id": "cell-98567fa0d69630d1",
     "locked": true,
     "schema_version": 1,
     "solution": false
    }
   },
   "outputs": [],
   "source": [
    "#include <iostream>\n",
    "#define ASSERT(C) if ( !(C) ) { std::cerr << \"Test failed: \"#C << std::endl; }"
   ]
  },
  {
   "cell_type": "code",
   "execution_count": null,
   "metadata": {
    "nbgrader": {
     "grade": true,
     "grade_id": "cell-0841e8afc22ba740",
     "locked": true,
     "points": 1,
     "schema_version": 1,
     "solution": false
    }
   },
   "outputs": [],
   "source": [
    "ASSERT( expRang(5, 0) == 1    ) // 5^0/1\n",
    "ASSERT( expRang(5, 1) == 6    ) // 5^0/1 + 5/1\n",
    "ASSERT( expRang(5, 2) == 18.5 );//  5^0/1 + 5/1 + 25./2"
   ]
  },
  {
   "cell_type": "markdown",
   "metadata": {
    "nbgrader": {
     "grade": false,
     "grade_id": "cell-162792f03bec12d9",
     "locked": true,
     "schema_version": 1,
     "solution": false
    }
   },
   "source": [
    "Plus on augmente le rang, plus on se rapproche de la valeur de $e^5=148.413\\cdots$.\n",
    "\n",
    "Dans la cellule ci-dessous, **augmenter le rang jusqu'à ce que la valeur affichée ne change plus** (la valeur ajoutée est trop petite pour changer l'affichage)"
   ]
  },
  {
   "cell_type": "code",
   "execution_count": null,
   "metadata": {
    "nbgrader": {
     "grade": false,
     "grade_id": "cell-c845f3c8812b2ff5",
     "locked": false,
     "schema_version": 1,
     "solution": true
    }
   },
   "outputs": [],
   "source": [
    "// Insérer ici votre code\n"
   ]
  },
  {
   "cell_type": "markdown",
   "metadata": {
    "nbgrader": {
     "grade": false,
     "grade_id": "cell-b586c5b168fc5914",
     "locked": true,
     "schema_version": 1,
     "solution": false
    }
   },
   "source": [
    "Calculer maintenant une approximation de la valeur de $e^{10}=22026.46\\cdots$ avec le même rang:"
   ]
  },
  {
   "cell_type": "code",
   "execution_count": null,
   "metadata": {
    "nbgrader": {
     "grade": false,
     "grade_id": "cell-586d52cbad6530df",
     "locked": false,
     "schema_version": 1,
     "solution": true
    }
   },
   "outputs": [],
   "source": [
    "// Insérer ici votre code\n"
   ]
  },
  {
   "cell_type": "markdown",
   "metadata": {
    "nbgrader": {
     "grade": true,
     "grade_id": "cell-6e01d081ee0b9bd2",
     "locked": false,
     "points": 1,
     "schema_version": 1,
     "solution": true
    }
   },
   "source": [
    "Que constatez vous?\n",
    "\n",
    "Insérer ici votre réponse\n"
   ]
  },
  {
   "cell_type": "markdown",
   "metadata": {
    "nbgrader": {
     "grade": false,
     "grade_id": "cell-e1f369de58992c8b",
     "locked": true,
     "schema_version": 1,
     "solution": false
    }
   },
   "source": [
    "Augmenter le rang jusqu'à ce que la valeur affichée ne change plus:"
   ]
  },
  {
   "cell_type": "code",
   "execution_count": null,
   "metadata": {
    "nbgrader": {
     "grade": false,
     "grade_id": "cell-9ab12e4a0fe9cddb",
     "locked": false,
     "schema_version": 1,
     "solution": true
    }
   },
   "outputs": [],
   "source": [
    "// Insérer ici votre code\n"
   ]
  },
  {
   "cell_type": "markdown",
   "metadata": {
    "nbgrader": {
     "grade": false,
     "grade_id": "cell-c9a5001fba7bb1a4",
     "locked": true,
     "schema_version": 1,
     "solution": false
    }
   },
   "source": [
    "## Bilan de la partie 2\n",
    "Bravo, vous avez implanté une approximation de la fonction exponnentielle en tronquant sa formule à un certain rang. Cependant, au vu des exemples ci-dessus, l'utilisateur souhaiterait spécifier non pas le *rang*, mais la *précision* qu'il souhaite obtenir. Pour cela il faut d'abord formaliser cette idée de précision. C'est l'objet de la [partie 3](feuille2-exponentielle3.ipynb)."
   ]
  }
 ],
 "metadata": {
  "celltoolbar": "Create Assignment",
  "kernelspec": {
   "display_name": "C++11",
   "language": "C++11",
   "name": "xeus-cling-cpp11"
  },
  "language_info": {
   "codemirror_mode": "text/x-c++src",
   "file_extension": ".cpp",
   "mimetype": "text/x-c++src",
   "name": "c++",
   "version": ""
  }
 },
 "nbformat": 4,
 "nbformat_minor": 2
}
