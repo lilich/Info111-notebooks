{
 "cells": [
  {
   "cell_type": "markdown",
   "metadata": {},
   "source": [
    "# Implanter la fonction exponentielle"
   ]
  },
  {
   "cell_type": "markdown",
   "metadata": {},
   "source": [
    "## Partie 2 : Calculer une somme infinie ?\n",
    "\n",
    "La définition mathématique de l'exponentielle suppose de calculer une *somme infinie*. Ce n'est pas possible en pratique ! On propose donc d'implanter la fonction suivante qui calcule une *approximation* de la fonction exponentielle obtenue en tronquant la somme à un certain rang $r$:\n",
    "$$e^x \\approx \\sum_{n=0}^r \\frac{x^n}{n!}$$"
   ]
  },
  {
   "cell_type": "markdown",
   "metadata": {},
   "source": [
    "Copier-coller dans les deux cellules suivantes vos fonctions `puissance` et `factorielle` de la [partie 1](feuille2-exponentielle.ipynb), puis compléter l'implantation de la fonction `exponentielle`."
   ]
  },
  {
   "cell_type": "code",
   "execution_count": null,
   "metadata": {},
   "outputs": [],
   "source": [
    "// Insérer ici votre code\n"
   ]
  },
  {
   "cell_type": "code",
   "execution_count": null,
   "metadata": {},
   "outputs": [],
   "source": [
    "// Insérer ici votre code\n"
   ]
  },
  {
   "cell_type": "code",
   "execution_count": null,
   "metadata": {},
   "outputs": [],
   "source": [
    "/** Exponentielle tronquée à un certain rang r\n",
    " * @param x un nombre à virgule flottante en double précision\n",
    " * @param r un nombre entier positif\n",
    " * @return 1 + x  + x^2/2 + x^3/3! + ...  + x^r/r!\n",
    "**/\n",
    "double expRang(double x, int r) {\n",
    "    // Insérer ici votre code\n",
    "\n",
    "}"
   ]
  },
  {
   "cell_type": "code",
   "execution_count": null,
   "metadata": {},
   "outputs": [],
   "source": [
    "expRang(5,1)"
   ]
  },
  {
   "cell_type": "code",
   "execution_count": null,
   "metadata": {},
   "outputs": [],
   "source": [
    "#include <iostream>\n",
    "#define ASSERT(C) if ( !(C) ) { std::cerr << \"Test failed: \"#C << std::endl; }"
   ]
  },
  {
   "cell_type": "code",
   "execution_count": null,
   "metadata": {},
   "outputs": [],
   "source": [
    "ASSERT( expRang(5, 0) == 1    ) // 5^0/1\n",
    "ASSERT( expRang(5, 1) == 6    ) // 5^0/1 + 5/1\n",
    "ASSERT( expRang(5, 2) == 18.5 );//  5^0/1 + 5/1 + 25./2"
   ]
  },
  {
   "cell_type": "markdown",
   "metadata": {},
   "source": [
    "Plus on augmente le rang, plus on se rapproche de la valeur de $e^5=148.413\\cdots$.\n",
    "\n",
    "**Augmenter le rang jusqu'à ce que la valeur affichée ne change plus** (la valeur ajoutée est trop petite pour changer l'affichage)"
   ]
  },
  {
   "cell_type": "code",
   "execution_count": null,
   "metadata": {},
   "outputs": [],
   "source": [
    "// Insérer ici votre code\n"
   ]
  },
  {
   "cell_type": "markdown",
   "metadata": {},
   "source": [
    "Calculer maintenant une approximation de la valeur de $e^{10}=22026.46\\cdots$ avec le même rang:"
   ]
  },
  {
   "cell_type": "code",
   "execution_count": null,
   "metadata": {},
   "outputs": [],
   "source": [
    "// Insérer ici votre code\n"
   ]
  },
  {
   "cell_type": "markdown",
   "metadata": {},
   "source": [
    "Que constatez vous?"
   ]
  },
  {
   "cell_type": "markdown",
   "metadata": {},
   "source": [
    "Augmenter le rang jusqu'à ce que la valeur affichée ne change plus:"
   ]
  },
  {
   "cell_type": "code",
   "execution_count": null,
   "metadata": {},
   "outputs": [],
   "source": [
    "// Insérer ici votre code\n"
   ]
  },
  {
   "cell_type": "markdown",
   "metadata": {},
   "source": [
    "## Bilan de la partie 2\n",
    "Bravo, vous avez implanté une approximation de la fonction exponnentielle en tronquant sa formule à un certain rang. Cependant, au vu des exemples ci-dessus, l'utilisateur souhaiterait spécifier non pas le *rang*, mais la *précision* qu'il souhaite obtenir. Pour cela il faut d'abord formaliser cette idée de précision. C'est l'objet de la [partie 3](feuille2-exponentielle3.ipynb)."
   ]
  }
 ],
 "metadata": {
  "kernelspec": {
   "display_name": "xeus C++11",
   "language": "",
   "name": "xeus-cling-cpp11"
  },
  "language_info": {
   "codemirror_mode": "text/x-c++src",
   "file_extension": ".cpp",
   "mimetype": "text/x-c++src",
   "name": "c++",
   "version": ""
  }
 },
 "nbformat": 4,
 "nbformat_minor": 2
}
