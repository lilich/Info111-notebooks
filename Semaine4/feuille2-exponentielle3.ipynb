{
 "cells": [
  {
   "cell_type": "markdown",
   "metadata": {
    "nbgrader": {
     "grade": false,
     "grade_id": "cell-ffce5d69407bd085",
     "locked": true,
     "schema_version": 1,
     "solution": false
    }
   },
   "source": [
    "# TP4 - Implanter la fonction exponentielle"
   ]
  },
  {
   "cell_type": "markdown",
   "metadata": {
    "nbgrader": {
     "grade": false,
     "grade_id": "cell-ba70cc528a726649",
     "locked": true,
     "schema_version": 1,
     "solution": false
    }
   },
   "source": [
    "## Partie 3 : Comparaison de nombres flottants et précision relative\n",
    "\n",
    "Sur les nombres flottants (`float` ou `double`) l'opérateur `==` n'est pas toujours très fiable à cause des erreurs d'arrondis:"
   ]
  },
  {
   "cell_type": "code",
   "execution_count": null,
   "metadata": {
    "nbgrader": {
     "grade": false,
     "grade_id": "cell-357388e8811e8887",
     "locked": true,
     "schema_version": 1,
     "solution": false
    }
   },
   "outputs": [],
   "source": [
    "1.0 + 1e20 - 1e20 == 1e20 - 1e20 + 1.0"
   ]
  },
  {
   "cell_type": "markdown",
   "metadata": {
    "nbgrader": {
     "grade": true,
     "grade_id": "cell-2ba595671ff56d54",
     "locked": false,
     "points": 1,
     "schema_version": 1,
     "solution": true
    }
   },
   "source": [
    "Exécutez les 5 cellules suivantes. Que constatez-vous ?\n",
    "\n",
    "Insérer ici votre réponse\n"
   ]
  },
  {
   "cell_type": "code",
   "execution_count": null,
   "metadata": {
    "nbgrader": {
     "grade": false,
     "grade_id": "cell-9822d857d4e81d79",
     "locked": true,
     "schema_version": 1,
     "solution": false
    }
   },
   "outputs": [],
   "source": [
    "double a,b;"
   ]
  },
  {
   "cell_type": "code",
   "execution_count": null,
   "metadata": {
    "nbgrader": {
     "grade": false,
     "grade_id": "cell-d98a79aa643b191e",
     "locked": true,
     "schema_version": 1,
     "solution": false
    }
   },
   "outputs": [],
   "source": [
    "a = 16;\n",
    "b = 15.99999999999;"
   ]
  },
  {
   "cell_type": "code",
   "execution_count": null,
   "metadata": {
    "nbgrader": {
     "grade": false,
     "grade_id": "cell-14c516a6791b2309",
     "locked": true,
     "schema_version": 1,
     "solution": false
    }
   },
   "outputs": [],
   "source": [
    "a"
   ]
  },
  {
   "cell_type": "code",
   "execution_count": null,
   "metadata": {
    "nbgrader": {
     "grade": false,
     "grade_id": "cell-e1b28a8439e86689",
     "locked": true,
     "schema_version": 1,
     "solution": false
    }
   },
   "outputs": [],
   "source": [
    "b"
   ]
  },
  {
   "cell_type": "code",
   "execution_count": null,
   "metadata": {
    "nbgrader": {
     "grade": false,
     "grade_id": "cell-659691632843cfcb",
     "locked": true,
     "schema_version": 1,
     "solution": false
    }
   },
   "outputs": [],
   "source": [
    "(a == b)"
   ]
  },
  {
   "cell_type": "markdown",
   "metadata": {
    "nbgrader": {
     "grade": false,
     "grade_id": "cell-5017bdc388a2f6c4",
     "locked": true,
     "schema_version": 1,
     "solution": false
    }
   },
   "source": [
    "### Définition: *précision relative*\n",
    "Aussi, chaque fois que l'on veut comparer deux nombres flottants, il faut spécifier avec quelle **précision** on veut les comparer. Comme on manipule certaines fois des nombres très grands et d'autres fois des nombres très petits, ce qui compte c'est la précision relative: le nombre de chiffres significatifs en communs.\n",
    "\n",
    "Par exemple, si on veut comparer $x$ et $y$ avec une précision relative de cinq chiffres significatifs, on prendra $\\varepsilon=10^{-5}=0.00001$, et on dira que $x$ est égal à $y$ à $\\varepsilon$ près si:\n",
    "$$ |x - y| < \\varepsilon|x| \\qquad \\text{et} \\qquad |x - y| < \\varepsilon |y|$$\n",
    "Moralement: la différence entre $x$ et $y$ est négligeable devant $x$ et devant $y$."
   ]
  },
  {
   "cell_type": "markdown",
   "metadata": {
    "nbgrader": {
     "grade": false,
     "grade_id": "cell-55c9c5c79654d21b",
     "locked": true,
     "schema_version": 1,
     "solution": false
    }
   },
   "source": [
    "### Implantation\n",
    "Implanter les deux fonctions suivantes dont on vous donne la documentation :\n",
    " * `abs` mais qui prend cette fois en paramètre un `double` et retourne un `double`\n",
    " * `egal` qui prend en paramètre les nombres $x$, $y$ et $\\varepsilon$."
   ]
  },
  {
   "cell_type": "code",
   "execution_count": null,
   "metadata": {
    "nbgrader": {
     "grade": false,
     "grade_id": "cell-aa46c278f72ba400",
     "locked": false,
     "schema_version": 1,
     "solution": true
    }
   },
   "outputs": [],
   "source": [
    "/** Valeur absolue pour type double\n",
    " * @param x un nombre de type double\n",
    " * @return la valeur absolue de x\n",
    "**/\n",
    "// Insérer ici votre code\n"
   ]
  },
  {
   "cell_type": "code",
   "execution_count": null,
   "metadata": {},
   "outputs": [],
   "source": [
    "abs(-1.5)"
   ]
  },
  {
   "cell_type": "code",
   "execution_count": null,
   "metadata": {
    "nbgrader": {
     "grade": false,
     "grade_id": "cell-05156406bb1aed31",
     "locked": true,
     "schema_version": 1,
     "solution": false
    }
   },
   "outputs": [],
   "source": [
    "#include <iostream>\n",
    "#define ASSERT(C) if ( !(C) ) { std::cerr << \"Test failed: \"#C << std::endl; }"
   ]
  },
  {
   "cell_type": "code",
   "execution_count": null,
   "metadata": {
    "nbgrader": {
     "grade": true,
     "grade_id": "cell-abf252519d9a3950",
     "locked": true,
     "points": 1,
     "schema_version": 1,
     "solution": false
    }
   },
   "outputs": [],
   "source": [
    "ASSERT( abs(-1.5) == 1.5 );\n",
    "ASSERT( abs( 2.2) == 2.2 );"
   ]
  },
  {
   "cell_type": "code",
   "execution_count": null,
   "metadata": {
    "nbgrader": {
     "grade": false,
     "grade_id": "cell-f6efe81b76dfe516",
     "locked": false,
     "schema_version": 1,
     "solution": true
    }
   },
   "outputs": [],
   "source": [
    "/** Égalité entre deux flottants avec précision relative\n",
    " * @param x un nombre de type double\n",
    " * @param y un nombre de type double\n",
    " * @param epsilon un nombre de type double\n",
    " * @return true si la valeur absolue de x - y est plus petite que epsilon * |x| et que epsilon * |y|\n",
    "**/\n",
    "// Insérer ici votre code\n"
   ]
  },
  {
   "cell_type": "code",
   "execution_count": null,
   "metadata": {},
   "outputs": [],
   "source": [
    "egal(15.999999, 16,0.00001)"
   ]
  },
  {
   "cell_type": "code",
   "execution_count": null,
   "metadata": {
    "nbgrader": {
     "grade": true,
     "grade_id": "cell-da8592649f3234ef",
     "locked": true,
     "points": 1,
     "schema_version": 1,
     "solution": false
    }
   },
   "outputs": [],
   "source": [
    "ASSERT( egal(15.999999, 16, 0.00001) == true  );\n",
    "ASSERT( egal(15.99, 16, 0.00001)     == false );"
   ]
  },
  {
   "cell_type": "markdown",
   "metadata": {
    "nbgrader": {
     "grade": false,
     "grade_id": "cell-29e58e1837c86ada",
     "locked": true,
     "schema_version": 1,
     "solution": false
    }
   },
   "source": [
    "Trouver des valeurs de `epsilon` telles que les nombres ci-dessous soient considérés comme égaux par `egal`:"
   ]
  },
  {
   "cell_type": "code",
   "execution_count": null,
   "metadata": {},
   "outputs": [],
   "source": [
    "egal(15, 16, 0.001)"
   ]
  },
  {
   "cell_type": "code",
   "execution_count": null,
   "metadata": {},
   "outputs": [],
   "source": [
    "egal(0.0001, 0.002, 0.00001)"
   ]
  },
  {
   "cell_type": "markdown",
   "metadata": {
    "nbgrader": {
     "grade": true,
     "grade_id": "cell-fd99a546db74023d",
     "locked": false,
     "points": 1,
     "schema_version": 1,
     "solution": true
    }
   },
   "source": [
    "Que se passe-t-il lorsque $x$ ou $y$ valent 0 ?\n",
    "\n",
    "Insérer ici votre réponse\n"
   ]
  },
  {
   "cell_type": "code",
   "execution_count": null,
   "metadata": {},
   "outputs": [],
   "source": [
    "egal(0.00001, 0, 0.0000001)"
   ]
  },
  {
   "cell_type": "markdown",
   "metadata": {},
   "source": [
    "## Bilan de la partie 3\n",
    "Maintenant que la notion de précision relative est bien définie, et que vous avez implanté la comparaison de nombres flottants avec une précision relative fixée, vous pouvez passer à la [partie 4](feuille2-exponentielle4.ipynb)."
   ]
  }
 ],
 "metadata": {
  "celltoolbar": "Create Assignment",
  "kernelspec": {
   "display_name": "C++11",
   "language": "C++11",
   "name": "xeus-cling-cpp11"
  },
  "language_info": {
   "codemirror_mode": "text/x-c++src",
   "file_extension": ".cpp",
   "mimetype": "text/x-c++src",
   "name": "c++",
   "version": ""
  }
 },
 "nbformat": 4,
 "nbformat_minor": 2
}
