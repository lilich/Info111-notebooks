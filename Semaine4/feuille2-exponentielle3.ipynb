{
 "cells": [
  {
   "cell_type": "markdown",
   "metadata": {},
   "source": [
    "# Implanter la fonction exponentielle"
   ]
  },
  {
   "cell_type": "markdown",
   "metadata": {},
   "source": [
    "## Partie 3 : Comparaison de nombres flottants et précision relative\n",
    "\n",
    "Sur les nombres flottants (`float` ou `double`) l'opérateur `==` n'est pas toujours très fiable à cause des erreurs d'arrondis:"
   ]
  },
  {
   "cell_type": "code",
   "execution_count": null,
   "metadata": {},
   "outputs": [],
   "source": [
    "1.0 + 1e20 - 1e20 == 1e20 - 1e20 + 1.0"
   ]
  },
  {
   "cell_type": "markdown",
   "metadata": {},
   "source": [
    " Deux nombres peuvent par ailleurs s'afficher de *la même façon* alors qu'ils sont différents !"
   ]
  },
  {
   "cell_type": "code",
   "execution_count": null,
   "metadata": {},
   "outputs": [],
   "source": [
    "double a,b;"
   ]
  },
  {
   "cell_type": "code",
   "execution_count": null,
   "metadata": {},
   "outputs": [],
   "source": [
    "a = 16;\n",
    "b = 15.99999999999;"
   ]
  },
  {
   "cell_type": "code",
   "execution_count": null,
   "metadata": {},
   "outputs": [],
   "source": [
    "a"
   ]
  },
  {
   "cell_type": "code",
   "execution_count": null,
   "metadata": {},
   "outputs": [],
   "source": [
    "b"
   ]
  },
  {
   "cell_type": "code",
   "execution_count": null,
   "metadata": {},
   "outputs": [],
   "source": [
    "(a == b)"
   ]
  },
  {
   "cell_type": "markdown",
   "metadata": {},
   "source": [
    "### Définition: *précision relative*\n",
    "Aussi, chaque fois que l'on veut comparer deux nombres flottants, il faut spécifier avec quelle *précision* on veut les comparer. Comme on manipule certaines fois des nombres très grands et d'autres fois des nombres très petits, ce qui compte c'est la précision relative: le nombre de chiffres significatifs en communs.\n",
    "\n",
    "Par exemple, si on veut comparer $x$ et $y$ avec une précision relative de cinq chiffres significatifs, on prendra $\\varepsilon=0.00001$, et on dira que $x$ est égal à $y$ à $\\varepsilon$ près si:\n",
    "$$ |x - y| < \\varepsilon|x| \\qquad \\text{et} \\qquad |x - y| < \\varepsilon |y| $$\n",
    "Moralement: la différence entre $x$ et $y$ est négligeable devant $x$ et devant $y$."
   ]
  },
  {
   "cell_type": "markdown",
   "metadata": {},
   "source": [
    "### Implantation\n",
    "Implanter les deux fonctions suivantes dont on vous donne la documentation :\n",
    " * `abs` mais qui prend cette fois en paramètre un `double` et retourne un `double`\n",
    " * `egal` qui prend en paramètre les nombres $x$, $y$ et $\\varepsilon$."
   ]
  },
  {
   "cell_type": "code",
   "execution_count": null,
   "metadata": {},
   "outputs": [],
   "source": [
    "/** Valeur absolue pour type double\n",
    " * @param x un nombre de type double\n",
    " * @return la valeur absolue de x\n",
    "**/\n",
    "// Insérer ici votre code\n"
   ]
  },
  {
   "cell_type": "code",
   "execution_count": null,
   "metadata": {},
   "outputs": [],
   "source": [
    "abs(-1.5)"
   ]
  },
  {
   "cell_type": "code",
   "execution_count": null,
   "metadata": {},
   "outputs": [],
   "source": [
    "#include <iostream>\n",
    "#define ASSERT(C) if ( !(C) ) { std::cerr << \"Test failed: \"#C << std::endl; }"
   ]
  },
  {
   "cell_type": "code",
   "execution_count": null,
   "metadata": {},
   "outputs": [],
   "source": [
    "ASSERT( abs(-1.5) == 1.5 );\n",
    "ASSERT( abs( 2.2) == 2.2 );"
   ]
  },
  {
   "cell_type": "code",
   "execution_count": null,
   "metadata": {},
   "outputs": [],
   "source": [
    "/** Égalité entre deux flottants avec précision relative\n",
    " * @param x un nombre de type double\n",
    " * @param y un nombre de type double\n",
    " * @param epsilon un nombre de type double\n",
    " * @return true si la valeur absolue de x - y est plus petite que epsilon * |x| et que epsilon * |y|\n",
    "**/\n",
    "// Insérer ici votre code\n"
   ]
  },
  {
   "cell_type": "code",
   "execution_count": null,
   "metadata": {},
   "outputs": [],
   "source": [
    "egal(15.999999, 16,0.00001)"
   ]
  },
  {
   "cell_type": "code",
   "execution_count": null,
   "metadata": {},
   "outputs": [],
   "source": [
    "ASSERT( egal(15.999999, 16, 0.00001) == true  );\n",
    "ASSERT( egal(15.99, 16, 0.00001)     == false );"
   ]
  },
  {
   "cell_type": "markdown",
   "metadata": {},
   "source": [
    "Trouver des valeurs de `epsilon` telles que les nombres ci-dessous soient considérés comme égaux par `egal`:"
   ]
  },
  {
   "cell_type": "code",
   "execution_count": null,
   "metadata": {},
   "outputs": [],
   "source": [
    "egal(15, 16, 0.001)"
   ]
  },
  {
   "cell_type": "code",
   "execution_count": null,
   "metadata": {},
   "outputs": [],
   "source": [
    "egal(0.0001, 0.002, 0.00001)"
   ]
  },
  {
   "cell_type": "code",
   "execution_count": null,
   "metadata": {},
   "outputs": [],
   "source": [
    "egal(0.00001, 0, 0.0000001)"
   ]
  },
  {
   "cell_type": "markdown",
   "metadata": {},
   "source": [
    "## Bilan de la partie 3\n",
    "Maintenant que la notion de précision relative est bien définie, et que vous avez implanté la comparaison de nombres flottants avec une précision relative fixée, vous pouvez passer à la [partie 4](feuille2-exponentielle4.ipynb)."
   ]
  }
 ],
 "metadata": {
  "kernelspec": {
   "display_name": "xeus C++11",
   "language": "",
   "name": "xeus-cling-cpp11"
  },
  "language_info": {
   "codemirror_mode": "text/x-c++src",
   "file_extension": ".cpp",
   "mimetype": "text/x-c++src",
   "name": "c++",
   "version": ""
  }
 },
 "nbformat": 4,
 "nbformat_minor": 2
}
