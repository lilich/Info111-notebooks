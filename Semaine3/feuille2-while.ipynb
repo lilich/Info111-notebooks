{
 "cells": [
  {
   "cell_type": "markdown",
   "metadata": {},
   "source": [
    "# Instructions itératives: boucles `while`"
   ]
  },
  {
   "cell_type": "markdown",
   "metadata": {},
   "source": [
    "Dans cette feuille, vous allez mettre en pratique la boucle `while`."
   ]
  },
  {
   "cell_type": "markdown",
   "metadata": {},
   "source": [
    "## Digression: affichages\n",
    "\n",
    "Nous avons vu que, lorsqu'une cellule est évaluée, la valeur et le type de la *dernière expression* est affichée."
   ]
  },
  {
   "cell_type": "code",
   "execution_count": null,
   "metadata": {},
   "outputs": [],
   "source": [
    "1 + 2"
   ]
  },
  {
   "cell_type": "code",
   "execution_count": null,
   "metadata": {},
   "outputs": [],
   "source": [
    "1 + 2;\n",
    "3 + 4;\n",
    "5 + 6"
   ]
  },
  {
   "cell_type": "markdown",
   "metadata": {},
   "source": [
    "Les autres calculs sont bien effectués par la machine mais le résultat n'est pas affiché."
   ]
  },
  {
   "cell_type": "markdown",
   "metadata": {},
   "source": [
    "Comme dans le dernier amphi, nous aurons besoin dans ce TD d'afficher d'autres informations, afin de suivre l'évolution d'un programme. Nous vous donnons ici le minimum nécessaire pour cela. Nous reviendrons dessus plus en détail ultérieurement."
   ]
  },
  {
   "cell_type": "markdown",
   "metadata": {},
   "source": [
    "Il faut d'abord charger la bibliothèque `C++` pour les *entrées / sorties*:"
   ]
  },
  {
   "cell_type": "code",
   "execution_count": null,
   "metadata": {},
   "outputs": [],
   "source": [
    "#include <iostream>\n",
    "using namespace std;"
   ]
  },
  {
   "cell_type": "markdown",
   "metadata": {},
   "source": [
    "Après cela, on peut afficher une valeur suivie d'un saut de ligne avec l'incantation «magique» suivante; noter que le type n'est pas affiché:"
   ]
  },
  {
   "cell_type": "code",
   "execution_count": null,
   "metadata": {},
   "outputs": [],
   "source": [
    "cout << 1+2 << endl;"
   ]
  },
  {
   "cell_type": "markdown",
   "metadata": {},
   "source": [
    "Nous pouvons maintenant afficher plusieurs valeurs d'un coup:"
   ]
  },
  {
   "cell_type": "code",
   "execution_count": null,
   "metadata": {},
   "outputs": [],
   "source": [
    "cout << 1 + 2 << endl;\n",
    "cout << 3 + 4 << endl;\n",
    "cout << 5 + 6 << endl;"
   ]
  },
  {
   "cell_type": "markdown",
   "metadata": {
    "collapsed": true
   },
   "source": [
    "## Exercice: première boucle while\n",
    "\n",
    "- Exécuter les cellules suivantes :"
   ]
  },
  {
   "cell_type": "code",
   "execution_count": null,
   "metadata": {},
   "outputs": [],
   "source": [
    "#include <iostream>\n",
    "using namespace std;"
   ]
  },
  {
   "cell_type": "code",
   "execution_count": null,
   "metadata": {},
   "outputs": [],
   "source": [
    "int a,i;"
   ]
  },
  {
   "cell_type": "code",
   "execution_count": null,
   "metadata": {},
   "outputs": [],
   "source": [
    "a = 35;"
   ]
  },
  {
   "cell_type": "code",
   "execution_count": null,
   "metadata": {},
   "outputs": [],
   "source": [
    "i = 1;\n",
    "while ( i < a ) {\n",
    "    cout << i << endl;\n",
    "    i = i*2;\n",
    "}"
   ]
  },
  {
   "cell_type": "markdown",
   "metadata": {},
   "source": [
    "- Modifiez la valeur de $a$ pour obtenir :\n",
    " * Exactement 1 affichage\n",
    " * Exactement 0 affichage\n",
    " * Exactement 4 affichages"
   ]
  },
  {
   "cell_type": "markdown",
   "metadata": {},
   "source": [
    "## Exercice: division euclidienne par soustraction\n",
    "\n",
    "- Observer les cellules suivantes et **donner des valeurs à $b$ et $c$ avec $b > c$ telles que, à la fin de la boucle, on ait $b=3$**:"
   ]
  },
  {
   "cell_type": "code",
   "execution_count": null,
   "metadata": {},
   "outputs": [],
   "source": [
    "int b,c;"
   ]
  },
  {
   "cell_type": "code",
   "execution_count": null,
   "metadata": {},
   "outputs": [],
   "source": []
  },
  {
   "cell_type": "code",
   "execution_count": null,
   "metadata": {},
   "outputs": [],
   "source": [
    "while ( b > c ) {\n",
    "    b = b - c;\n",
    "}"
   ]
  },
  {
   "cell_type": "code",
   "execution_count": null,
   "metadata": {},
   "outputs": [],
   "source": [
    "b"
   ]
  },
  {
   "cell_type": "markdown",
   "metadata": {},
   "source": [
    "- Modifier la cellule ci-dessous pour que la variable $k$ compte le nombre d'exécutions de la boucle;\n",
    "- Donner des valeurs à $b$ et $c$ telles que l'on ait $b=3$ et $k=5$ à la fin de la boucle."
   ]
  },
  {
   "cell_type": "code",
   "execution_count": null,
   "metadata": {},
   "outputs": [],
   "source": [
    "int k;"
   ]
  },
  {
   "cell_type": "code",
   "execution_count": null,
   "metadata": {},
   "outputs": [],
   "source": [
    "// Insérer ici votre code\n",
    "\n",
    "while ( b > c ) {\n",
    "    b = b - c;\n",
    "    // Insérer ici votre code\n",
    "\n",
    "}"
   ]
  },
  {
   "cell_type": "code",
   "execution_count": null,
   "metadata": {},
   "outputs": [],
   "source": [
    "b     // doit afficher 3"
   ]
  },
  {
   "cell_type": "code",
   "execution_count": null,
   "metadata": {},
   "outputs": [],
   "source": [
    "k     // doit afficher 5"
   ]
  },
  {
   "cell_type": "markdown",
   "metadata": {},
   "source": [
    "## Exercice: suite de Syracuse\n",
    "\n",
    "- Exécuter les cellules ci-dessous."
   ]
  },
  {
   "cell_type": "code",
   "execution_count": null,
   "metadata": {},
   "outputs": [],
   "source": [
    "#include <iostream>\n",
    "using namespace std;\n",
    "int d;"
   ]
  },
  {
   "cell_type": "code",
   "execution_count": null,
   "metadata": {},
   "outputs": [],
   "source": [
    "d = 5;"
   ]
  },
  {
   "cell_type": "code",
   "execution_count": null,
   "metadata": {},
   "outputs": [],
   "source": [
    "// Insérer ici votre code\n",
    "\n",
    "    if ( d%2 == 0) {\n",
    "        d = d/2;\n",
    "    } else {\n",
    "        d = 3*d+1;\n",
    "    }\n",
    "    cout << d << endl;\n",
    "// Insérer ici votre code\n"
   ]
  },
  {
   "cell_type": "markdown",
   "metadata": {},
   "source": [
    "  Vous noterez que lorsque le nombre $d$ est pair, on le divise par 2. Lorsqu'il est impair, on le multiplie par 3 et on ajoute 1. \n",
    "\n",
    "- Modifier la cellule pour que l'on répète cette action tant que le nombre est supérieur à 1. On veut afficher le nombre à chaque fois. Si votre code est correct, il doit afficher 16 8 4 2 1 (en partant de d=5)."
   ]
  },
  {
   "cell_type": "markdown",
   "metadata": {},
   "source": [
    "## Exercice\n",
    "\n",
    "- Oberver la fonction suivante et essayer de comprendre ce qu'elle calcule en lisant le code et en essayant plusieurs valeurs d'appel."
   ]
  },
  {
   "cell_type": "code",
   "execution_count": null,
   "metadata": {},
   "outputs": [],
   "source": [
    "int mystere(int n) {\n",
    "    int k = 1;\n",
    "    while ( k*k < n ) {\n",
    "        k = k + 1;\n",
    "    }\n",
    "    return k;\n",
    "}"
   ]
  },
  {
   "cell_type": "code",
   "execution_count": null,
   "metadata": {},
   "outputs": [],
   "source": [
    "mystere(5)"
   ]
  },
  {
   "cell_type": "markdown",
   "metadata": {},
   "source": [
    "- Donner un exemple tel que la valeur renvoyée soit 6:"
   ]
  },
  {
   "cell_type": "code",
   "execution_count": null,
   "metadata": {},
   "outputs": [],
   "source": [
    "// Insérer ici votre code\n"
   ]
  },
  {
   "cell_type": "markdown",
   "metadata": {},
   "source": [
    "## Bilan"
   ]
  },
  {
   "cell_type": "markdown",
   "metadata": {},
   "source": [
    "Vous pouvez maintenant passer à la [feuille d'exercices sur les boucles `for`](feuille3-for.ipynb). Vous pourrez, par la suite, aborder les exercices plus avancés ci-dessous."
   ]
  },
  {
   "cell_type": "markdown",
   "metadata": {},
   "source": [
    "## Exercice &clubsuit;\n",
    "\n",
    "- Compléter le code de la fonction suivante pour qu'elle détermine si $n$ est un carré parfait. Dans ce cas, elle doit renvoyer `true`; sinon elle doit renvoyer `false`.\n",
    "\n",
    "  **Rappel**: un *carré parfait* est un nombre qui peut s'écrire $k\\times k$ avec $k$ un entier. Par exemple $16$ est un carré parfait car $16 = 4 \\times 4$, mais $20$ n'est pas un carré parfait. \n",
    "\n"
   ]
  },
  {
   "cell_type": "code",
   "execution_count": null,
   "metadata": {},
   "outputs": [],
   "source": [
    "bool carreParfait(int n) {\n",
    "    // Votre code\n",
    "    // Insérer ici votre code\n",
    "\n",
    "}"
   ]
  },
  {
   "cell_type": "markdown",
   "metadata": {},
   "source": [
    "- Essayer votre fonction sur les exemples suivants:"
   ]
  },
  {
   "cell_type": "code",
   "execution_count": null,
   "metadata": {},
   "outputs": [],
   "source": [
    "carreParfait(16)  // doit renvoyer true"
   ]
  },
  {
   "cell_type": "code",
   "execution_count": null,
   "metadata": {},
   "outputs": [],
   "source": [
    "carreParfait(20)  // doit renvoyer false"
   ]
  },
  {
   "cell_type": "markdown",
   "metadata": {},
   "source": [
    "- Vérifier que votre fonction passe les tests suivants (chaque cellule doit afficher `true`):"
   ]
  },
  {
   "cell_type": "code",
   "execution_count": null,
   "metadata": {},
   "outputs": [],
   "source": [
    "carreParfait(0) == true"
   ]
  },
  {
   "cell_type": "code",
   "execution_count": null,
   "metadata": {},
   "outputs": [],
   "source": [
    "carreParfait(1) == true"
   ]
  },
  {
   "cell_type": "code",
   "execution_count": null,
   "metadata": {},
   "outputs": [],
   "source": [
    "carreParfait(2) == false"
   ]
  },
  {
   "cell_type": "code",
   "execution_count": null,
   "metadata": {},
   "outputs": [],
   "source": [
    "carreParfait(50) == false"
   ]
  },
  {
   "cell_type": "code",
   "execution_count": null,
   "metadata": {},
   "outputs": [],
   "source": [
    "carreParfait(100) == true"
   ]
  },
  {
   "cell_type": "code",
   "execution_count": null,
   "metadata": {},
   "outputs": [],
   "source": [
    "carreParfait(250) == false"
   ]
  }
 ],
 "metadata": {
  "kernelspec": {
   "display_name": "xeus C++11",
   "language": "",
   "name": "xeus-cling-cpp11"
  },
  "language_info": {
   "codemirror_mode": "text/x-c++src",
   "file_extension": ".cpp",
   "mimetype": "text/x-c++src",
   "name": "c++",
   "version": ""
  }
 },
 "nbformat": 4,
 "nbformat_minor": 2
}
