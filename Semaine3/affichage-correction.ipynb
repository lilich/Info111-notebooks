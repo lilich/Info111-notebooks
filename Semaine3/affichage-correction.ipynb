{
 "cells": [
  {
   "cell_type": "markdown",
   "metadata": {},
   "source": [
    "# Affichage\n",
    "\n",
    "Jusqu'à présent, nous n'avons que l'affichage par défaut proposé par le notebook, nous allons voir comment obtenir l'affichage d'une valeur en cours de programme.\n",
    "\n",
    "L'affichage à l'écran est une des façons de communiquer entre le programme et l'utilisateur. Le notebook que nous utilisons affiche par défaut la valeur de la *dernière expression*. **Observez les exemples ci-dessous**."
   ]
  },
  {
   "cell_type": "code",
   "execution_count": null,
   "metadata": {},
   "outputs": [],
   "source": [
    "1+2"
   ]
  },
  {
   "cell_type": "code",
   "execution_count": null,
   "metadata": {},
   "outputs": [],
   "source": [
    "1+2;\n",
    "3+4"
   ]
  },
  {
   "cell_type": "code",
   "execution_count": null,
   "metadata": {},
   "outputs": [],
   "source": [
    "1+2;\n",
    "3+4;\n",
    "5+6"
   ]
  },
  {
   "cell_type": "markdown",
   "metadata": {},
   "source": [
    "Les autres calculs ont été effectués par la machine mais le résultat n'a pas été affiché. Pour utiliser la commande d'affichage, nous avons besoin d'exécuter la ligne suivante qui permet de charger le module `C++` en charge des *entrées / sorties* (nous reviendrons sur cette notion en cours)."
   ]
  },
  {
   "cell_type": "code",
   "execution_count": null,
   "metadata": {},
   "outputs": [],
   "source": [
    "#include <iostream>\n",
    "using namespace std;"
   ]
  },
  {
   "cell_type": "markdown",
   "metadata": {},
   "source": [
    "La ligne suivante permet d'afficher le calcul suivi d'un retour à la ligne."
   ]
  },
  {
   "cell_type": "code",
   "execution_count": null,
   "metadata": {},
   "outputs": [],
   "source": [
    "cout << 1+2 << endl;"
   ]
  },
  {
   "cell_type": "markdown",
   "metadata": {},
   "source": [
    "Remarquez que, dans ce cas, le *type* de la valeur n'apparait plus : on est bien dans l'affichage `C++` et plus dans celui du notebook.\n",
    "\n",
    "On peut afficher plusieurs valeurs à la suite."
   ]
  },
  {
   "cell_type": "code",
   "execution_count": null,
   "metadata": {},
   "outputs": [],
   "source": [
    "cout << 1+2 << endl;\n",
    "cout << 3+4 << endl;\n",
    "cout << 5+6 << endl;"
   ]
  },
  {
   "cell_type": "markdown",
   "metadata": {},
   "source": [
    "On peut aussi afficher des chaînes de caractères en utilisant les guillemets."
   ]
  },
  {
   "cell_type": "code",
   "execution_count": null,
   "metadata": {},
   "outputs": [],
   "source": [
    "cout << \"Bonjour, comment allez-vous ?\" << endl;"
   ]
  },
  {
   "cell_type": "markdown",
   "metadata": {},
   "source": [
    "Et même mélanger les chaînes de caractères et les variables comme ci-dessous."
   ]
  },
  {
   "cell_type": "code",
   "execution_count": null,
   "metadata": {},
   "outputs": [],
   "source": [
    "int age;"
   ]
  },
  {
   "cell_type": "code",
   "execution_count": null,
   "metadata": {},
   "outputs": [],
   "source": [
    "age = 32;\n",
    "cout << \"J'ai \" << age << \" ans.\" << endl;"
   ]
  },
  {
   "cell_type": "markdown",
   "metadata": {},
   "source": [
    "**Modifiez la cellule précédente en remplaçant la variable `age` par votre age et exécutez de nouveau.**\n",
    "\n",
    "**Utilisez la variable `annee` ci-dessous pour afficher \"Je suis né(e) en ****\" où les **** sont votre année de naissance."
   ]
  },
  {
   "cell_type": "code",
   "execution_count": null,
   "metadata": {},
   "outputs": [],
   "source": [
    "int annee;"
   ]
  },
  {
   "cell_type": "code",
   "execution_count": null,
   "metadata": {},
   "outputs": [],
   "source": [
    "// votre code\n",
    "// Insérer ici votre code\n"
   ]
  },
  {
   "cell_type": "markdown",
   "metadata": {},
   "source": [
    "**Observez le programme suivant, que fait-il ? Testez-le avec plusieurs valeurs de `note`.**"
   ]
  },
  {
   "cell_type": "code",
   "execution_count": null,
   "metadata": {},
   "outputs": [],
   "source": [
    "int note;"
   ]
  },
  {
   "cell_type": "code",
   "execution_count": null,
   "metadata": {},
   "outputs": [],
   "source": [
    "note = 14;\n",
    "if (note < 0  or note > 20) {\n",
    "    cout << \"La note n'est pas correcte.\" << endl;\n",
    "} else if (note < 10) {\n",
    "    cout << \"Vous avez raté l'examen !\" << endl;\n",
    "} else {\n",
    "    cout << \"Vous avez réussi l'examen !\" << endl;\n",
    "}\n",
    "\n",
    "// Insérer ici votre code\n"
   ]
  },
  {
   "cell_type": "markdown",
   "metadata": {},
   "source": [
    "**Modifiez le programme précédent pour qu'il affiche la mention** (de 12 à 14, mention *assez bien*, de 14 à 16 mention *bien* et au dessus de 16, mention *très bien*."
   ]
  }
 ],
 "metadata": {
  "kernelspec": {
   "display_name": "xeus C++11",
   "language": "",
   "name": "xeus-cling-cpp11"
  },
  "language_info": {
   "codemirror_mode": "text/x-c++src",
   "file_extension": ".cpp",
   "mimetype": "text/x-c++src",
   "name": "c++",
   "version": ""
  }
 },
 "nbformat": 4,
 "nbformat_minor": 2
}
