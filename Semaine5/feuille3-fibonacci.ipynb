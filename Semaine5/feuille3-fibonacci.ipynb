{
 "cells": [
  {
   "cell_type": "markdown",
   "metadata": {},
   "source": [
    "### Suite de Fibonacci\n",
    "Dans cette feuille, vous allez implanter les trois algorithmes vus en TD pour calculer la suite de Fibonacci."
   ]
  },
  {
   "cell_type": "code",
   "execution_count": null,
   "metadata": {},
   "outputs": [],
   "source": [
    "#include <iostream>\n",
    "#include <vector>\n",
    "using namespace std;"
   ]
  },
  {
   "cell_type": "code",
   "execution_count": null,
   "metadata": {},
   "outputs": [],
   "source": [
    "#define ASSERT(C) if ( !(C) ) { std::cerr << \"Test failed: \"#C << std::endl; }"
   ]
  },
  {
   "cell_type": "markdown",
   "metadata": {},
   "source": [
    "## Exercice (Fibonacci, version tableau)"
   ]
  },
  {
   "cell_type": "markdown",
   "metadata": {},
   "source": [
    "- Écrire la documentation puis implanter la fonction `fibonacciTableau`:"
   ]
  },
  {
   "cell_type": "code",
   "execution_count": null,
   "metadata": {},
   "outputs": [],
   "source": []
  },
  {
   "cell_type": "code",
   "execution_count": null,
   "metadata": {},
   "outputs": [],
   "source": [
    "int fibonacciTableau(int n) {\n",
    "    // Insérer ici votre code\n",
    "\n",
    "}"
   ]
  },
  {
   "cell_type": "markdown",
   "metadata": {},
   "source": [
    "- Vérifier que votre fonction passe les tests:"
   ]
  },
  {
   "cell_type": "code",
   "execution_count": null,
   "metadata": {},
   "outputs": [],
   "source": [
    "ASSERT( fibonacciTableau(1) == 1 );\n",
    "ASSERT( fibonacciTableau(2) == 1 );\n",
    "ASSERT( fibonacciTableau(3) == 2 );\n",
    "ASSERT( fibonacciTableau(4) == 3 );\n",
    "ASSERT( fibonacciTableau(5) == 5 );\n",
    "ASSERT( fibonacciTableau(6) == 8 );"
   ]
  },
  {
   "cell_type": "markdown",
   "metadata": {},
   "source": [
    "## Exercice (Fibonacci, version trois variables)"
   ]
  },
  {
   "cell_type": "markdown",
   "metadata": {},
   "source": [
    "- De même que précédement"
   ]
  },
  {
   "cell_type": "code",
   "execution_count": null,
   "metadata": {},
   "outputs": [],
   "source": []
  },
  {
   "cell_type": "code",
   "execution_count": null,
   "metadata": {},
   "outputs": [],
   "source": [
    "int fibonacciVariables(int n) {\n",
    "    // Insérer ici votre code\n",
    "\n",
    "}"
   ]
  },
  {
   "cell_type": "markdown",
   "metadata": {},
   "source": [
    "- Tests :"
   ]
  },
  {
   "cell_type": "code",
   "execution_count": null,
   "metadata": {},
   "outputs": [],
   "source": [
    "ASSERT( fibonacciVariables(1) == 1 );\n",
    "ASSERT( fibonacciVariables(2) == 1 );\n",
    "ASSERT( fibonacciVariables(3) == 2 );\n",
    "ASSERT( fibonacciVariables(4) == 3 );\n",
    "ASSERT( fibonacciVariables(5) == 5 );\n",
    "ASSERT( fibonacciVariables(6) == 8 );"
   ]
  },
  {
   "cell_type": "markdown",
   "metadata": {},
   "source": [
    "## Exercice (Fibonacci, version récursive)"
   ]
  },
  {
   "cell_type": "code",
   "execution_count": null,
   "metadata": {},
   "outputs": [],
   "source": []
  },
  {
   "cell_type": "code",
   "execution_count": null,
   "metadata": {},
   "outputs": [],
   "source": [
    "int fibonacciRecursive(int n) {\n",
    "    // Insérer ici votre code\n",
    "\n",
    "}"
   ]
  },
  {
   "cell_type": "markdown",
   "metadata": {},
   "source": [
    "- Tests :"
   ]
  },
  {
   "cell_type": "code",
   "execution_count": null,
   "metadata": {},
   "outputs": [],
   "source": [
    "ASSERT( fibonacciRecursive(1) == 1 );\n",
    "ASSERT( fibonacciRecursive(2) == 1 );\n",
    "ASSERT( fibonacciRecursive(3) == 2 );\n",
    "ASSERT( fibonacciRecursive(4) == 3 );\n",
    "ASSERT( fibonacciRecursive(5) == 5 );\n",
    "ASSERT( fibonacciRecursive(6) == 8 );"
   ]
  },
  {
   "cell_type": "markdown",
   "metadata": {},
   "source": [
    "- $\\clubsuit$ Exécuter la version récursive avec une grande valeur pour n (par exemple 200)."
   ]
  },
  {
   "cell_type": "code",
   "execution_count": null,
   "metadata": {},
   "outputs": [],
   "source": []
  },
  {
   "cell_type": "markdown",
   "metadata": {},
   "source": [
    "- Que se passe-t-il?"
   ]
  },
  {
   "cell_type": "markdown",
   "metadata": {},
   "source": [
    "- $\\clubsuit$ A votre avis, est-il possible de remédier à ce problème?"
   ]
  }
 ],
 "metadata": {
  "kernelspec": {
   "display_name": "xeus C++11",
   "language": "",
   "name": "xeus-cling-cpp11"
  },
  "language_info": {
   "codemirror_mode": "text/x-c++src",
   "file_extension": ".cpp",
   "mimetype": "text/x-c++src",
   "name": "c++",
   "version": ""
  }
 },
 "nbformat": 4,
 "nbformat_minor": 2
}
