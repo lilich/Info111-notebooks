{
 "cells": [
  {
   "cell_type": "markdown",
   "metadata": {
    "deletable": false,
    "editable": false,
    "nbgrader": {
     "checksum": "6e5dbc477447644f93416cba679263ec",
     "grade": false,
     "grade_id": "cell-bf82401e988f816e",
     "locked": true,
     "schema_version": 1,
     "solution": false
    }
   },
   "source": [
    "Avant de terminer cette feuille, assurez-vous que tout fonctionne comme voulu. Tout d'abord, **redémarrez le noyau** (dans le menu, sélectionner `Kernel -> Restart`) puis **exécutez toutes les cellules** (dans le menu, sélectionner `Cell -> Run All`).\n",
    "\n",
    "Vérifiez que vous avez édité la cellule ci-dessous, ainsi que toutes les cellules marquées avec `VOTRE CODE ICI` ou `VOTRE RÉPONSE ICI`."
   ]
  },
  {
   "cell_type": "markdown",
   "metadata": {},
   "source": [
    "- Nom: \n",
    "- Prénom: \n",
    "- Groupe: "
   ]
  },
  {
   "cell_type": "markdown",
   "metadata": {},
   "source": [
    "# Exercices supplémentaires: Tableaux, chaînes de caractères, `switch`"
   ]
  },
  {
   "cell_type": "code",
   "execution_count": null,
   "metadata": {},
   "outputs": [],
   "source": [
    "#include <iostream>\n",
    "#include <vector>\n",
    "using namespace std;"
   ]
  },
  {
   "cell_type": "code",
   "execution_count": null,
   "metadata": {},
   "outputs": [],
   "source": [
    "#define ASSERT(C) if ( !(C) ) { std::cerr << \"Test failed: \"#C << std::endl; }"
   ]
  },
  {
   "cell_type": "markdown",
   "metadata": {},
   "source": [
    "## Exercice (tableaux)\n",
    "- Implanter une fonction `contient` qui prend en argument un tableau et un entier et renvoie vrai si le tableau contient l'entier, faux sinon. Commencer par en écrire la documentation."
   ]
  },
  {
   "cell_type": "code",
   "execution_count": null,
   "metadata": {
    "deletable": false,
    "nbgrader": {
     "checksum": "0caa16ade15a560b248489b9cfaac05c",
     "grade": false,
     "grade_id": "cell-69642dc56e20e981",
     "locked": false,
     "schema_version": 1,
     "solution": true
    }
   },
   "outputs": [],
   "source": [
    "// VOTRE CODE ICI"
   ]
  },
  {
   "cell_type": "markdown",
   "metadata": {},
   "source": [
    "- Vérifier qu'elle passe les tests :"
   ]
  },
  {
   "cell_type": "code",
   "execution_count": null,
   "metadata": {},
   "outputs": [],
   "source": [
    "ASSERT(     contient( { 5, -1, 8, 4 }, 8) );\n",
    "ASSERT( not contient( { 1, 2 }, 42)       );"
   ]
  },
  {
   "cell_type": "markdown",
   "metadata": {},
   "source": [
    "## Exercice (Code Morse $\\clubsuit$)\n",
    "\n",
    "- Voici une fonction qui traduit une lettre en code Morse. Elle contient une instruction `switch` que nous n'avons pas encore vue. À quoi ressemblerait la fonction avec des `if` à la place?"
   ]
  },
  {
   "cell_type": "code",
   "execution_count": null,
   "metadata": {},
   "outputs": [],
   "source": [
    "string morseCaractere(char a) {\n",
    "    switch(a) {\n",
    "    case 'A':\n",
    "        return \".-\";\n",
    "    case 'B':\n",
    "        return \"-...\";\n",
    "    case 'C':\n",
    "        return \"-.-.\";\n",
    "    case 'D':\n",
    "        return \"-..\";\n",
    "    case 'E':\n",
    "        return \".\";\n",
    "    case 'F':\n",
    "        return \"..-.\";\n",
    "    case 'G':\n",
    "        return \"--.\";\n",
    "    case 'H':\n",
    "        return \"....\";\n",
    "    case 'I':\n",
    "        return \"..\";\n",
    "    case 'J':\n",
    "        return \".---\";\n",
    "    case 'K':\n",
    "        return \"-.-\";\n",
    "    case 'L':\n",
    "        return \".-..\";\n",
    "    case 'M':\n",
    "        return \"--\";\n",
    "    case 'N':\n",
    "        return \"-.\";\n",
    "    case 'O':\n",
    "        return \"---\";\n",
    "    case 'P':\n",
    "        return \".--.\";\n",
    "    case 'Q':\n",
    "        return \"--.-\";\n",
    "    case 'R':\n",
    "        return \".-.\";\n",
    "    case 'S':\n",
    "        return \"...\";\n",
    "    case 'T':\n",
    "        return \"-\";\n",
    "    case 'U':\n",
    "        return \"..-\";\n",
    "    case 'V':\n",
    "        return \"...-\";\n",
    "    case 'W':\n",
    "        return \".--\";\n",
    "    case 'X':\n",
    "        return \"-..-\";\n",
    "    case 'Y':\n",
    "        return \"-.--\";\n",
    "    case 'Z':\n",
    "        return \"--..\";\n",
    "    default:\n",
    "        return \"???\";\n",
    "    }\n",
    "}\n"
   ]
  },
  {
   "cell_type": "markdown",
   "metadata": {},
   "source": [
    "- Implanter une fonction `morseString` qui prend en entrée une chaîne de caractères de longueur arbitraire et qui la traduit entièrement en code Morse. <br>\n",
    "  **Indication:** les chaînes de caractères (`string`) se comportent essentiellement comme des tableaux de caractères (`char`)."
   ]
  },
  {
   "cell_type": "code",
   "execution_count": null,
   "metadata": {
    "deletable": false,
    "nbgrader": {
     "checksum": "b2d31fad1d1e458f62f6d6c1e3ca97d2",
     "grade": false,
     "grade_id": "cell-edcc8a9c8d2d2b2c",
     "locked": false,
     "schema_version": 1,
     "solution": true
    }
   },
   "outputs": [],
   "source": [
    "string morseChaine(string chaine) {\n",
    "    // VOTRE CODE ICI\n",
    "}"
   ]
  },
  {
   "cell_type": "markdown",
   "metadata": {},
   "source": [
    "- Compléter les tests, et vérifier que la fonction les passent"
   ]
  },
  {
   "cell_type": "code",
   "execution_count": null,
   "metadata": {},
   "outputs": [],
   "source": [
    "ASSERT( morseChaine(\"HELLO\") == \"......-...-..---\");\n",
    "ASSERT( morseChaine(\"GOOD LUCK\") == \"--.-------..???.-....--.-.-.-\");"
   ]
  },
  {
   "cell_type": "markdown",
   "metadata": {},
   "source": [
    "## Bilan\n",
    "\n",
    "Si vous êtes arrivés jusqu'ici, bravo ! Vous pouvez reprendre le TP, en Python cette fois-ci :)"
   ]
  }
 ],
 "metadata": {
  "kernelspec": {
   "display_name": "C++11",
   "language": "C++11",
   "name": "xeus-cling-cpp11"
  },
  "language_info": {
   "codemirror_mode": "text/x-c++src",
   "file_extension": ".cpp",
   "mimetype": "text/x-c++src",
   "name": "c++",
   "version": "-std=c++11"
  }
 },
 "nbformat": 4,
 "nbformat_minor": 2
}
