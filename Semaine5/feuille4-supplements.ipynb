{
 "cells": [
  {
   "cell_type": "markdown",
   "metadata": {},
   "source": [
    "# Exercices supplémentaires: Tableaux, chaînes de caractères, `switch`"
   ]
  },
  {
   "cell_type": "code",
   "execution_count": null,
   "metadata": {},
   "outputs": [],
   "source": [
    "#include <iostream>\n",
    "#include <vector>\n",
    "using namespace std;"
   ]
  },
  {
   "cell_type": "code",
   "execution_count": null,
   "metadata": {},
   "outputs": [],
   "source": [
    "#define ASSERT(C) if ( !(C) ) { std::cerr << \"Test failed: \"#C << std::endl; }"
   ]
  },
  {
   "cell_type": "markdown",
   "metadata": {},
   "source": [
    "## Exercice (tableaux)\n",
    "- Implanter une fonction `contient` qui prend en argument un tableau et un entier et renvoie vrai si le tableau contient l'entier, faux sinon. Commencer par en écrire la documentation."
   ]
  },
  {
   "cell_type": "code",
   "execution_count": null,
   "metadata": {},
   "outputs": [],
   "source": []
  },
  {
   "cell_type": "code",
   "execution_count": null,
   "metadata": {},
   "outputs": [],
   "source": [
    "// Insérer ici votre code\n"
   ]
  },
  {
   "cell_type": "markdown",
   "metadata": {},
   "source": [
    "- Vérifier qu'elle passe les tests :"
   ]
  },
  {
   "cell_type": "code",
   "execution_count": null,
   "metadata": {},
   "outputs": [],
   "source": [
    "ASSERT(     contient( { 5, -1, 8, 4 }, 8) );\n",
    "ASSERT( not contient( { 1, 2 }, 42)       );"
   ]
  },
  {
   "cell_type": "markdown",
   "metadata": {},
   "source": [
    "## Exercice (Code Morse $\\clubsuit$)\n",
    "\n",
    "- Voici une fonction qui traduit une lettre en code Morse. Elle contient une instruction `switch` que nous n'avons pas encore vue. À quoi ressemblerait la fonction avec des `if` à la place?"
   ]
  },
  {
   "cell_type": "code",
   "execution_count": null,
   "metadata": {},
   "outputs": [],
   "source": [
    "string morseCaractere(char a) {\n",
    "    switch(a) {\n",
    "    case 'A':\n",
    "        return \".-\";\n",
    "    case 'B':\n",
    "        return \"-...\";\n",
    "    case 'C':\n",
    "        return \"-.-.\";\n",
    "    case 'D':\n",
    "        return \"-..\";\n",
    "    case 'E':\n",
    "        return \".\";\n",
    "    case 'F':\n",
    "        return \"..-.\";\n",
    "    case 'G':\n",
    "        return \"--.\";\n",
    "    case 'H':\n",
    "        return \"....\";\n",
    "    case 'I':\n",
    "        return \"..\";\n",
    "    case 'J':\n",
    "        return \".---\";\n",
    "    case 'K':\n",
    "        return \"-.-\";\n",
    "    case 'L':\n",
    "        return \".-..\";\n",
    "    case 'M':\n",
    "        return \"--\";\n",
    "    case 'N':\n",
    "        return \"-.\";\n",
    "    case 'O':\n",
    "        return \"---\";\n",
    "    case 'P':\n",
    "        return \".--.\";\n",
    "    case 'Q':\n",
    "        return \"--.-\";\n",
    "    case 'R':\n",
    "        return \".-.\";\n",
    "    case 'S':\n",
    "        return \"...\";\n",
    "    case 'T':\n",
    "        return \"-\";\n",
    "    case 'U':\n",
    "        return \"..-\";\n",
    "    case 'V':\n",
    "        return \"...-\";\n",
    "    case 'W':\n",
    "        return \".--\";\n",
    "    case 'X':\n",
    "        return \"-..-\";\n",
    "    case 'Y':\n",
    "        return \"-.--\";\n",
    "    case 'Z':\n",
    "        return \"--..\";\n",
    "    default:\n",
    "        return \"???\";\n",
    "    }\n",
    "}\n"
   ]
  },
  {
   "cell_type": "markdown",
   "metadata": {},
   "source": [
    "- Implanter une fonction `morseString` qui prend en entrée une chaîne de caractères de longueur arbitraire et qui la traduit entièrement en code Morse. <br>\n",
    "  **Indication:** les chaînes de caractères (`string`) se comportent essentiellement comme des tableaux de caractères (`char`)."
   ]
  },
  {
   "cell_type": "code",
   "execution_count": null,
   "metadata": {},
   "outputs": [],
   "source": [
    "string morseChaine(string chaine) {\n",
    "    // Insérer ici votre code\n",
    "\n",
    "}"
   ]
  },
  {
   "cell_type": "markdown",
   "metadata": {},
   "source": [
    "- Compléter les tests, et vérifier que la fonction les passent"
   ]
  },
  {
   "cell_type": "code",
   "execution_count": null,
   "metadata": {},
   "outputs": [],
   "source": [
    "ASSERT( morseChaine(\"HELLO\") == \"......-...-..---\");\n",
    "ASSERT( morseChaine(\"GOOD LUCK\") == \"--.-------..???.-....--.-.-.-\");"
   ]
  },
  {
   "cell_type": "markdown",
   "metadata": {},
   "source": [
    "## Bilan\n",
    "\n",
    "Si vous êtes arrivés jusqu'ici, bravo ! Vous pouvez reprendre le TP, en Python cette fois-ci :)"
   ]
  }
 ],
 "metadata": {
  "kernelspec": {
   "display_name": "xeus C++11",
   "language": "",
   "name": "xeus-cling-cpp11"
  },
  "language_info": {
   "codemirror_mode": "text/x-c++src",
   "file_extension": ".cpp",
   "mimetype": "text/x-c++src",
   "name": "c++",
   "version": ""
  }
 },
 "nbformat": 4,
 "nbformat_minor": 2
}
