{
 "cells": [
  {
   "cell_type": "markdown",
   "metadata": {
    "deletable": true,
    "editable": true
   },
   "source": [
    "# TP 1: Prise en main de Jupyter"
   ]
  },
  {
   "cell_type": "markdown",
   "metadata": {
    "deletable": true,
    "editable": true
   },
   "source": [
    "- Nom:\n",
    "- Prénom:\n",
    "- Groupe:"
   ]
  },
  {
   "cell_type": "markdown",
   "metadata": {
    "deletable": true,
    "editable": true
   },
   "source": [
    "**Exercice**\n",
    "\n",
    "Ce document est une *feuille de travail*, composée d'une successions de *cellules*; chaque cellule peut contenir du texte, un calcul à effectuer, ou le résultat de ce calcul.\n",
    "- Saisissez votre nom, prénom et groupe ci-dessus.<br>\n",
    "  Indication: double cliquez sur la cellule de texte; quand vous avez terminé, appuyez sur les touches `Maj-Enter`.\n",
    "- Lancez la visite guidée de l'interface Jupyter.<br>\n",
    "  Indication: Menu `Help` -> `User Interface Tour`.\n",
    "- Consultez les raccourcis claviers.<br>\n",
    "  Indication: Menu `Help` -> `Keyboard Shortcuts`."
   ]
  },
  {
   "cell_type": "markdown",
   "metadata": {
    "deletable": true,
    "editable": true
   },
   "source": [
    "**Exercice**\n",
    "\n",
    "- Cliquez sur les cellules suivantes puis appuyez sur les touches `Maj+Entr` pour effectuer les calculs.\n"
   ]
  },
  {
   "cell_type": "code",
   "execution_count": null,
   "metadata": {
    "deletable": true,
    "editable": true
   },
   "outputs": [],
   "source": [
    "1 + 1"
   ]
  },
  {
   "cell_type": "code",
   "execution_count": null,
   "metadata": {
    "deletable": true,
    "editable": true
   },
   "outputs": [],
   "source": [
    "3 * ( 1947 + 35*3) "
   ]
  },
  {
   "cell_type": "code",
   "execution_count": null,
   "metadata": {},
   "outputs": [],
   "source": [
    "from math import *"
   ]
  },
  {
   "cell_type": "code",
   "execution_count": null,
   "metadata": {
    "deletable": true,
    "editable": true
   },
   "outputs": [],
   "source": [
    "cos(3.1415)"
   ]
  }
 ],
 "metadata": {
  "kernelspec": {
   "display_name": "Python 3",
   "language": "python",
   "name": "python3"
  },
  "language_info": {
   "codemirror_mode": {
    "name": "ipython",
    "version": 3
   },
   "file_extension": ".py",
   "mimetype": "text/x-python",
   "name": "python",
   "nbconvert_exporter": "python",
   "pygments_lexer": "ipython3",
   "version": "3.5.3"
  }
 },
 "nbformat": 4,
 "nbformat_minor": 2
}
